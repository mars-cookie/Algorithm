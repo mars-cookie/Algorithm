{
  "nbformat": 4,
  "nbformat_minor": 0,
  "metadata": {
    "colab": {
      "name": "MySQL 기초.ipynb",
      "provenance": [],
      "authorship_tag": "ABX9TyO1VGGak/zPy3UhQy2NdQ64",
      "include_colab_link": true
    },
    "kernelspec": {
      "name": "python3",
      "display_name": "Python 3"
    }
  },
  "cells": [
    {
      "cell_type": "markdown",
      "metadata": {
        "id": "view-in-github",
        "colab_type": "text"
      },
      "source": [
        "<a href=\"https://colab.research.google.com/github/mars-cookie/Algorithm/blob/master/MySQL_%EA%B8%B0%EC%B4%88.ipynb\" target=\"_parent\"><img src=\"https://colab.research.google.com/assets/colab-badge.svg\" alt=\"Open In Colab\"/></a>"
      ]
    },
    {
      "cell_type": "markdown",
      "metadata": {
        "id": "GAswsRUTRXNn",
        "colab_type": "text"
      },
      "source": [
        "# 1. Select : 조건에 맞는 변수 출력"
      ]
    },
    {
      "cell_type": "markdown",
      "metadata": {
        "id": "b4BehtAMReSy",
        "colab_type": "text"
      },
      "source": [
        "- 모든 변수 출력 : SELECT * FROM ds\n",
        "- 특정 변수 A,B 선택 + C 변수 역으로 정렬하기 : SELECT A,B FROM ds ORDER BY C DESC\n",
        "- 특정 조건 D가 sick인 경우만 출력 : SELECT A,B FROM ds WHERE D='Sick'. 조건에 ==말고 =를 쓰는 것이 특징"
      ]
    },
    {
      "cell_type": "code",
      "metadata": {
        "id": "LKd7MuXrQn2L",
        "colab_type": "code",
        "colab": {}
      },
      "source": [
        ""
      ],
      "execution_count": null,
      "outputs": []
    }
  ]
}