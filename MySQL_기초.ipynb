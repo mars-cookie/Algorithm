{
  "nbformat": 4,
  "nbformat_minor": 0,
  "metadata": {
    "colab": {
      "name": "MySQL 기초.ipynb",
      "provenance": [],
      "authorship_tag": "ABX9TyNNeXG09c4Mzr3JLlHtzmwa",
      "include_colab_link": true
    },
    "kernelspec": {
      "name": "python3",
      "display_name": "Python 3"
    }
  },
  "cells": [
    {
      "cell_type": "markdown",
      "metadata": {
        "id": "view-in-github",
        "colab_type": "text"
      },
      "source": [
        "<a href=\"https://colab.research.google.com/github/mars-cookie/Algorithm/blob/master/MySQL_%EA%B8%B0%EC%B4%88.ipynb\" target=\"_parent\"><img src=\"https://colab.research.google.com/assets/colab-badge.svg\" alt=\"Open In Colab\"/></a>"
      ]
    },
    {
      "cell_type": "markdown",
      "metadata": {
        "id": "GAswsRUTRXNn",
        "colab_type": "text"
      },
      "source": [
        "# 1. Select : 조건에 맞는 변수 출력"
      ]
    },
    {
      "cell_type": "markdown",
      "metadata": {
        "id": "b4BehtAMReSy",
        "colab_type": "text"
      },
      "source": [
        "- 모든 변수 출력 : SELECT * FROM ds\n",
        "- 특정 변수 A,B 선택 + C 변수 역으로 정렬하기 : SELECT A,B FROM ds ORDER BY C DESC\n",
        "- C 변수 후, D 변수 역으로 정렬 : ORDER BY C, D DESC\n",
        "- 특정 조건 D가 sick인 경우만 출력 : SELECT A,B FROM ds WHERE D='Sick'. 조건에 ==말고 =를 쓰는 것이 특징\n",
        "- D가 sick이 아니라면? : WHERE D NOT IN ('Sick')\n",
        "- 상위 n개 : LIMIT n"
      ]
    },
    {
      "cell_type": "markdown",
      "metadata": {
        "id": "XW4Qr99Ln76x",
        "colab_type": "text"
      },
      "source": [
        "# 2. Sum, Max, Min\n",
        "- A 변수의 최솟값 : SELECT MIN(A)\n",
        "- count로 수 세기 : SELECT COUNT(*) AS count\n",
        "- 중복 제거한 것만 가져와서 수 세기 : SELECT COUNT(DISTINCT NAME) AS count\n"
      ]
    },
    {
      "cell_type": "code",
      "metadata": {
        "id": "LKd7MuXrQn2L",
        "colab_type": "code",
        "colab": {}
      },
      "source": [
        ""
      ],
      "execution_count": null,
      "outputs": []
    }
  ]
}