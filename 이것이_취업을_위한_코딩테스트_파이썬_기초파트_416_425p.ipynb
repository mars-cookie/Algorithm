{
  "nbformat": 4,
  "nbformat_minor": 0,
  "metadata": {
    "colab": {
      "name": "이것이 취업을 위한 코딩테스트 파이썬 기초파트 416~425p.ipynb",
      "provenance": [],
      "collapsed_sections": []
    },
    "kernelspec": {
      "name": "python3",
      "display_name": "Python 3"
    }
  },
  "cells": [
    {
      "cell_type": "markdown",
      "metadata": {
        "id": "znExn88Lns_Q",
        "colab_type": "text"
      },
      "source": [
        "# 1. 리스트\n",
        "## 1) 빈 리스트 생성"
      ]
    },
    {
      "cell_type": "code",
      "metadata": {
        "id": "ZzK1e7Y2GiyN",
        "colab_type": "code",
        "colab": {
          "base_uri": "https://localhost:8080/",
          "height": 52
        },
        "outputId": "18cb7c3e-8a1e-4f39-de01-1d4059d727f6"
      },
      "source": [
        "a=list(); print(a)\n",
        "a=[] ; print(a)"
      ],
      "execution_count": 2,
      "outputs": [
        {
          "output_type": "stream",
          "text": [
            "[]\n",
            "[]\n"
          ],
          "name": "stdout"
        }
      ]
    },
    {
      "cell_type": "code",
      "metadata": {
        "id": "OukVi30KGmFG",
        "colab_type": "code",
        "colab": {
          "base_uri": "https://localhost:8080/",
          "height": 35
        },
        "outputId": "4acb2349-2a4d-4ce7-8af9-8117bccef585"
      },
      "source": [
        "n=10\n",
        "a=[0]*n\n",
        "print(a)"
      ],
      "execution_count": 3,
      "outputs": [
        {
          "output_type": "stream",
          "text": [
            "[0, 0, 0, 0, 0, 0, 0, 0, 0, 0]\n"
          ],
          "name": "stdout"
        }
      ]
    },
    {
      "cell_type": "markdown",
      "metadata": {
        "id": "q7KoKgASo7wW",
        "colab_type": "text"
      },
      "source": [
        "## 2) 리스트 인덱싱과 슬라이싱"
      ]
    },
    {
      "cell_type": "code",
      "metadata": {
        "id": "eLJjUTnMoVyJ",
        "colab_type": "code",
        "colab": {
          "base_uri": "https://localhost:8080/",
          "height": 88
        },
        "outputId": "0e7befa0-6067-4248-f348-23f32ba880f6"
      },
      "source": [
        "a=list(range(1,10))\n",
        "print(a)\n",
        "print(a[-1])\n",
        "print(a[-3])\n",
        "a[3]=7\n",
        "print(a)"
      ],
      "execution_count": 11,
      "outputs": [
        {
          "output_type": "stream",
          "text": [
            "[1, 2, 3, 4, 5, 6, 7, 8, 9]\n",
            "9\n",
            "7\n",
            "[1, 2, 3, 7, 5, 6, 7, 8, 9]\n"
          ],
          "name": "stdout"
        }
      ]
    },
    {
      "cell_type": "code",
      "metadata": {
        "id": "DPF0Qag8pElM",
        "colab_type": "code",
        "colab": {
          "base_uri": "https://localhost:8080/",
          "height": 35
        },
        "outputId": "96972fd3-9899-46a8-ab71-d701ac7668f8"
      },
      "source": [
        "a=list(range(1,10))\n",
        "print(a[1:4])"
      ],
      "execution_count": 12,
      "outputs": [
        {
          "output_type": "stream",
          "text": [
            "[2, 3, 4]\n"
          ],
          "name": "stdout"
        }
      ]
    },
    {
      "cell_type": "markdown",
      "metadata": {
        "id": "CQKpTB_KrkdK",
        "colab_type": "text"
      },
      "source": [
        "## 3) 리스트 컴프리헨션"
      ]
    },
    {
      "cell_type": "code",
      "metadata": {
        "id": "SCapDjnyrjms",
        "colab_type": "code",
        "colab": {
          "base_uri": "https://localhost:8080/",
          "height": 52
        },
        "outputId": "4b88b0ef-0587-456e-8cf8-6412285d0113"
      },
      "source": [
        "# 0부터 19까지 중 홀수만 가져오기\n",
        "a=[i for i in range(20) if i%2==1]\n",
        "print(a)\n",
        "# 1부터 9까지 제곱 값을 포함\n",
        "a=[i**2 for i in range(1,10)]\n",
        "print(a)\n"
      ],
      "execution_count": 15,
      "outputs": [
        {
          "output_type": "stream",
          "text": [
            "[1, 3, 5, 7, 9, 11, 13, 15, 17, 19]\n",
            "[1, 4, 9, 16, 25, 36, 49, 64, 81]\n"
          ],
          "name": "stdout"
        }
      ]
    },
    {
      "cell_type": "code",
      "metadata": {
        "id": "1zwknzBktaT4",
        "colab_type": "code",
        "colab": {
          "base_uri": "https://localhost:8080/",
          "height": 35
        },
        "outputId": "85e44ebb-0c87-458d-c925-fc40ee2034ac"
      },
      "source": [
        "# N * M 크기의 2차원 리스트 초기화\n",
        "n=3 ; m=4\n",
        "a=[[0]*m for _ in range(n)]\n",
        "print(a)"
      ],
      "execution_count": 18,
      "outputs": [
        {
          "output_type": "stream",
          "text": [
            "[[0, 0, 0, 0], [0, 0, 0, 0], [0, 0, 0, 0]]\n"
          ],
          "name": "stdout"
        }
      ]
    },
    {
      "cell_type": "markdown",
      "metadata": {
        "id": "RKMBdvvpv50q",
        "colab_type": "text"
      },
      "source": [
        "## 4) 리스트 관련 기타 메서드\n",
        "추가 : append(), 정렬 : sort(reverse=True), 뒤집기 : reverse(),\n",
        "삽입 : insert(위치,값), 세기 : count(), 제거 : remove() "
      ]
    },
    {
      "cell_type": "code",
      "metadata": {
        "id": "wDW947-RvdrZ",
        "colab_type": "code",
        "colab": {
          "base_uri": "https://localhost:8080/",
          "height": 124
        },
        "outputId": "57dd91ee-cb35-4b3e-9742-a65d5e37c321"
      },
      "source": [
        "a=[1,4,3]\n",
        "# 2 삽입\n",
        "a.append(2)\n",
        "print('2 삽입: ',a)\n",
        "\n",
        "# 내림차순 정렬\n",
        "a.sort(reverse=True)\n",
        "print('정렬 ',a)\n",
        "\n",
        "# 리스트 원소 뒤집기\n",
        "a.reverse()\n",
        "print('뒤집기 ',a)\n",
        "\n",
        "# 인덱스 2에 3 추가\n",
        "a.insert(2,3)\n",
        "print('삽입 ',a)\n",
        "\n",
        "# 특정 값인 데이터 개수 세기\n",
        "print('세기 ',a.count(3))\n",
        "\n",
        "# 특정 값 데이터 삭제\n",
        "a.remove(3)\n",
        "print('1인 것 삭제 ',a)"
      ],
      "execution_count": 28,
      "outputs": [
        {
          "output_type": "stream",
          "text": [
            "2 삽입:  [1, 4, 3, 2]\n",
            "정렬  [4, 3, 2, 1]\n",
            "뒤집기  [1, 2, 3, 4]\n",
            "삽입  [1, 2, 3, 3, 4]\n",
            "세기  2\n",
            "1인 것 삭제  [1, 2, 3, 4]\n"
          ],
          "name": "stdout"
        }
      ]
    },
    {
      "cell_type": "markdown",
      "metadata": {
        "id": "qdQwW18PxuYd",
        "colab_type": "text"
      },
      "source": [
        "remove set에 포함되지 않은 값만을 저장"
      ]
    },
    {
      "cell_type": "code",
      "metadata": {
        "id": "sQ60IatcwsIo",
        "colab_type": "code",
        "colab": {
          "base_uri": "https://localhost:8080/",
          "height": 35
        },
        "outputId": "3f072515-3b40-430f-c7f9-fbe36461c360"
      },
      "source": [
        "a=[1,2,3,4,5,5,5]\n",
        "remove_set={3,5}\n",
        "\n",
        "result=[i for i in a if i not in remove_set]\n",
        "print(result)"
      ],
      "execution_count": 29,
      "outputs": [
        {
          "output_type": "stream",
          "text": [
            "[1, 2, 4]\n"
          ],
          "name": "stdout"
        }
      ]
    },
    {
      "cell_type": "code",
      "metadata": {
        "id": "I9NWHL3AyDiK",
        "colab_type": "code",
        "colab": {}
      },
      "source": [
        ""
      ],
      "execution_count": null,
      "outputs": []
    }
  ]
}