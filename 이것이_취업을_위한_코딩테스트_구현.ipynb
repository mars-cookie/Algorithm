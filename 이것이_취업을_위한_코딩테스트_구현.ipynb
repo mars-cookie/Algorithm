{
  "nbformat": 4,
  "nbformat_minor": 0,
  "metadata": {
    "colab": {
      "name": "이것이 취업을 위한 코딩테스트-구현.ipynb",
      "provenance": [],
      "collapsed_sections": [],
      "authorship_tag": "ABX9TyOATCFoCyVlU/jneFfRihgs",
      "include_colab_link": true
    },
    "kernelspec": {
      "name": "python3",
      "display_name": "Python 3"
    }
  },
  "cells": [
    {
      "cell_type": "markdown",
      "metadata": {
        "id": "view-in-github",
        "colab_type": "text"
      },
      "source": [
        "<a href=\"https://colab.research.google.com/github/mars-cookie/Algorithm/blob/master/%EC%9D%B4%EA%B2%83%EC%9D%B4_%EC%B7%A8%EC%97%85%EC%9D%84_%EC%9C%84%ED%95%9C_%EC%BD%94%EB%94%A9%ED%85%8C%EC%8A%A4%ED%8A%B8_%EA%B5%AC%ED%98%84.ipynb\" target=\"_parent\"><img src=\"https://colab.research.google.com/assets/colab-badge.svg\" alt=\"Open In Colab\"/></a>"
      ]
    },
    {
      "cell_type": "markdown",
      "metadata": {
        "id": "uG6hJcRjlkGb",
        "colab_type": "text"
      },
      "source": [
        "# 예제 4-1 상하좌우\n",
        "- 모르고 for i in range(N)을 넣어버림 .. "
      ]
    },
    {
      "cell_type": "code",
      "metadata": {
        "id": "N3qWuMOOgFHc",
        "colab_type": "code",
        "colab": {
          "base_uri": "https://localhost:8080/",
          "height": 70
        },
        "outputId": "f45fc87d-e2d2-4560-9586-49452c1191dd"
      },
      "source": [
        "N = int(input())\n",
        "A = input().split()\n",
        "\n",
        "row = 1 ; col = 1\n",
        "\n",
        "for j in A: # 방향 받기\n",
        "  if j == 'R':\n",
        "    a = 0; b = 1\n",
        "  elif j == 'U':\n",
        "    a = -1; b = 0\n",
        "  elif j == 'D':\n",
        "    a = 1; b = 0\n",
        "  else:\n",
        "    a = 0; b = -1\n",
        "  row += a # 더해주기\n",
        "  col += b\n",
        "  \n",
        "  if (row<=0) | (row>=(N+1)) | (col<=0) | (col>=(N+1)): #이상한 방향은 원래 방향으로 돌려놓고 무시하기\n",
        "    row -= a\n",
        "    col -= b\n",
        "\n",
        "print(row,col,end=' ')\n",
        "\n"
      ],
      "execution_count": null,
      "outputs": [
        {
          "output_type": "stream",
          "text": [
            "5\n",
            "R R R U D D\n",
            "3 4 "
          ],
          "name": "stdout"
        }
      ]
    },
    {
      "cell_type": "markdown",
      "metadata": {
        "id": "SpfdW_tdGneI",
        "colab_type": "text"
      },
      "source": [
        "예제 4-2 왕실의 나이트"
      ]
    },
    {
      "cell_type": "markdown",
      "metadata": {
        "id": "HItMAWt7JRgX",
        "colab_type": "text"
      },
      "source": [
        "- 문자열을 숫자로 바꾸는게 있었는데..."
      ]
    },
    {
      "cell_type": "code",
      "metadata": {
        "id": "tu2IOWW-Gmz5",
        "colab_type": "code",
        "colab": {
          "base_uri": "https://localhost:8080/",
          "height": 35
        },
        "outputId": "3687bb7c-10cc-421f-91c9-02bee1de857b"
      },
      "source": [
        "row = [i for i in range(1,9)]\n",
        "col = ['a','b','c','d','e','f','g','h']\n",
        "col = list(map(ord,col))\n",
        "\n",
        "x = 'a1'\n",
        "s_col = ord(x[0])\n",
        "s_row = int(x[1])\n",
        "\n",
        "case = 0\n",
        "\n",
        "if ((s_col+1) in col) & ((s_row-2) in row): # 오른쪽 1 위 2\n",
        "  case+=1\n",
        "if ((s_col+1) in col) & ((s_row+2) in row): # 오른쪽 1 아래 2\n",
        "  case+=1\n",
        "if ((s_col-1) in col) & ((s_row-2) in row): # 왼쪽 1 위 2\n",
        "  case+=1\n",
        "if ((s_col-1) in col) & ((s_row+2) in row): # 왼쪽 1 아래 2\n",
        "  case+=1\n",
        "if ((s_col+2) in col) & ((s_row+1) in row): # 아래 1 오른쪽 2\n",
        "  case+=1\n",
        "if ((s_col-2) in col) & ((s_row+1) in row): # 아래 1 왼쪽 2\n",
        "  case+=1\n",
        "if ((s_col+2) in col) & ((s_row-1) in row): # 위 1 오른쪽 2\n",
        "  case+=1\n",
        "if ((s_col-2) in col) & ((s_row-1) in row): # 위 1 왼쪽 2\n",
        "  case+=1\n",
        "print(case)"
      ],
      "execution_count": 56,
      "outputs": [
        {
          "output_type": "stream",
          "text": [
            "2\n"
          ],
          "name": "stdout"
        }
      ]
    },
    {
      "cell_type": "markdown",
      "metadata": {
        "id": "kgOYe_vOjoYM",
        "colab_type": "text"
      },
      "source": [
        "- 룰을 등록하고 그만큼 움직인다"
      ]
    },
    {
      "cell_type": "code",
      "metadata": {
        "id": "FoqeIolUOAbB",
        "colab_type": "code",
        "colab": {
          "base_uri": "https://localhost:8080/",
          "height": 53
        },
        "outputId": "df5d4919-2331-4215-dfa7-a0817228a260"
      },
      "source": [
        "input_data = input()\n",
        "row = int(input_data[1])\n",
        "col= int(ord(input_data[0]))-int(ord('a'))+1\n",
        "steps = [[1,-2],[1,2],[-1,-2],[-1,2],[2,1],[2,-1],[-2,1],[-2,-1]]\n",
        "\n",
        "result=0\n",
        "for step in steps:\n",
        "  next_row = row + step[0]\n",
        "  next_column = col + step[1]\n",
        "  if 1<=next_row<=8 and 1<=next_column<=8:\n",
        "    result+=1\n",
        "print(result)"
      ],
      "execution_count": 58,
      "outputs": [
        {
          "output_type": "stream",
          "text": [
            "a1\n",
            "2\n"
          ],
          "name": "stdout"
        }
      ]
    },
    {
      "cell_type": "code",
      "metadata": {
        "id": "hK0XI3fVPBvi",
        "colab_type": "code",
        "colab": {}
      },
      "source": [
        ""
      ],
      "execution_count": null,
      "outputs": []
    }
  ]
}