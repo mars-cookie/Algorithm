{
  "nbformat": 4,
  "nbformat_minor": 0,
  "metadata": {
    "colab": {
      "name": "이것이 취업을 위한 코딩테스트-구현.ipynb",
      "provenance": [],
      "authorship_tag": "ABX9TyPwgmFVn9+J+rs5Av3TdkZn",
      "include_colab_link": true
    },
    "kernelspec": {
      "name": "python3",
      "display_name": "Python 3"
    }
  },
  "cells": [
    {
      "cell_type": "markdown",
      "metadata": {
        "id": "view-in-github",
        "colab_type": "text"
      },
      "source": [
        "<a href=\"https://colab.research.google.com/github/mars-cookie/Algorithm/blob/master/%EC%9D%B4%EA%B2%83%EC%9D%B4_%EC%B7%A8%EC%97%85%EC%9D%84_%EC%9C%84%ED%95%9C_%EC%BD%94%EB%94%A9%ED%85%8C%EC%8A%A4%ED%8A%B8_%EA%B5%AC%ED%98%84.ipynb\" target=\"_parent\"><img src=\"https://colab.research.google.com/assets/colab-badge.svg\" alt=\"Open In Colab\"/></a>"
      ]
    },
    {
      "cell_type": "markdown",
      "metadata": {
        "id": "uG6hJcRjlkGb",
        "colab_type": "text"
      },
      "source": [
        "# 예제 4-1 상하좌우\n",
        "- 모르고 for i in range(N)을 넣어버림 .. "
      ]
    },
    {
      "cell_type": "code",
      "metadata": {
        "id": "N3qWuMOOgFHc",
        "colab_type": "code",
        "colab": {
          "base_uri": "https://localhost:8080/",
          "height": 70
        },
        "outputId": "f45fc87d-e2d2-4560-9586-49452c1191dd"
      },
      "source": [
        "N = int(input())\n",
        "A = input().split()\n",
        "\n",
        "row = 1 ; col = 1\n",
        "\n",
        "for j in A: # 방향 받기\n",
        "  if j == 'R':\n",
        "    a = 0; b = 1\n",
        "  elif j == 'U':\n",
        "    a = -1; b = 0\n",
        "  elif j == 'D':\n",
        "    a = 1; b = 0\n",
        "  else:\n",
        "    a = 0; b = -1\n",
        "  row += a # 더해주기\n",
        "  col += b\n",
        "  \n",
        "  if (row<=0) | (row>=(N+1)) | (col<=0) | (col>=(N+1)): #이상한 방향은 원래 방향으로 돌려놓고 무시하기\n",
        "    row -= a\n",
        "    col -= b\n",
        "\n",
        "print(row,col,end=' ')\n",
        "\n"
      ],
      "execution_count": 17,
      "outputs": [
        {
          "output_type": "stream",
          "text": [
            "5\n",
            "R R R U D D\n",
            "3 4 "
          ],
          "name": "stdout"
        }
      ]
    }
  ]
}