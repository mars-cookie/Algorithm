{
  "nbformat": 4,
  "nbformat_minor": 0,
  "metadata": {
    "colab": {
      "name": "이것이 취업을 위한 코딩테스트 파이썬 기초파트.ipynb",
      "provenance": [],
      "collapsed_sections": []
    },
    "kernelspec": {
      "name": "python3",
      "display_name": "Python 3"
    }
  },
  "cells": [
    {
      "cell_type": "markdown",
      "metadata": {
        "id": "y9vKvYINF_Zc",
        "colab_type": "text"
      },
      "source": [
        "# 1. 문자열 자료형"
      ]
    },
    {
      "cell_type": "markdown",
      "metadata": {
        "id": "tR8drMk0GD8s",
        "colab_type": "text"
      },
      "source": [
        "문자열 초기화에는 '' \"\" 사용"
      ]
    },
    {
      "cell_type": "code",
      "metadata": {
        "id": "KwDs2YgTFreZ",
        "colab_type": "code",
        "colab": {
          "base_uri": "https://localhost:8080/",
          "height": 50
        },
        "outputId": "474e62f4-0c79-414e-8f8d-3f49104cffc9"
      },
      "source": [
        "data='Hello world'; print(data)\n",
        "data='' ;print(data)"
      ],
      "execution_count": null,
      "outputs": [
        {
          "output_type": "stream",
          "text": [
            "Hello world\n",
            "\n"
          ],
          "name": "stdout"
        }
      ]
    },
    {
      "cell_type": "markdown",
      "metadata": {
        "id": "Ur6FVimvGMcu",
        "colab_type": "text"
      },
      "source": [
        "따옴표 넣기"
      ]
    },
    {
      "cell_type": "code",
      "metadata": {
        "id": "PrSGYDNaFs-Y",
        "colab_type": "code",
        "colab": {
          "base_uri": "https://localhost:8080/",
          "height": 35
        },
        "outputId": "13c13607-bd21-416e-dbe1-a13965cdd604"
      },
      "source": [
        "data='Don\\'t you know \\\"python\\\"'\n",
        "print(data)"
      ],
      "execution_count": null,
      "outputs": [
        {
          "output_type": "stream",
          "text": [
            "Don't you know \"python\"\n"
          ],
          "name": "stdout"
        }
      ]
    },
    {
      "cell_type": "markdown",
      "metadata": {
        "id": "YR1lOXYiH-0Q",
        "colab_type": "text"
      },
      "source": [
        "반복 출력"
      ]
    },
    {
      "cell_type": "code",
      "metadata": {
        "id": "CfMxN_1ZGZP4",
        "colab_type": "code",
        "colab": {
          "base_uri": "https://localhost:8080/",
          "height": 35
        },
        "outputId": "ff90d6c0-e0b8-46c8-e38a-87d932b1cea8"
      },
      "source": [
        "a='string'\n",
        "print(a*3)"
      ],
      "execution_count": null,
      "outputs": [
        {
          "output_type": "stream",
          "text": [
            "stringstringstring\n"
          ],
          "name": "stdout"
        }
      ]
    },
    {
      "cell_type": "markdown",
      "metadata": {
        "id": "zXLbRNx3IC3a",
        "colab_type": "text"
      },
      "source": [
        "슬라이싱 : 문자열은 한 글자마다 리스트 처리가 됌"
      ]
    },
    {
      "cell_type": "code",
      "metadata": {
        "id": "bu-hqSLTH-DQ",
        "colab_type": "code",
        "colab": {
          "base_uri": "https://localhost:8080/",
          "height": 35
        },
        "outputId": "ea354d59-506f-4d00-b963-07c866a93771"
      },
      "source": [
        "print(a[2:5])"
      ],
      "execution_count": null,
      "outputs": [
        {
          "output_type": "stream",
          "text": [
            "rin\n"
          ],
          "name": "stdout"
        }
      ]
    },
    {
      "cell_type": "markdown",
      "metadata": {
        "id": "zuleFcV0IQwK",
        "colab_type": "text"
      },
      "source": [
        "# 2. 튜플 자료형\n",
        "각 원소의 성질이 다를 때 사용. \n",
        "한 번 들어가면 변경이 안 됌."
      ]
    },
    {
      "cell_type": "code",
      "metadata": {
        "id": "KxoDWBwpIFJg",
        "colab_type": "code",
        "colab": {
          "base_uri": "https://localhost:8080/",
          "height": 226
        },
        "outputId": "67c5b1bb-73ca-42a8-a0fc-15c9db52056e"
      },
      "source": [
        "a=(1,2,3,4)\n",
        "print(a)\n",
        "a[2]=7"
      ],
      "execution_count": null,
      "outputs": [
        {
          "output_type": "stream",
          "text": [
            "(1, 2, 3, 4)\n"
          ],
          "name": "stdout"
        },
        {
          "output_type": "error",
          "ename": "TypeError",
          "evalue": "ignored",
          "traceback": [
            "\u001b[0;31m---------------------------------------------------------------------------\u001b[0m",
            "\u001b[0;31mTypeError\u001b[0m                                 Traceback (most recent call last)",
            "\u001b[0;32m<ipython-input-7-4f0dc2950ea1>\u001b[0m in \u001b[0;36m<module>\u001b[0;34m()\u001b[0m\n\u001b[1;32m      1\u001b[0m \u001b[0ma\u001b[0m\u001b[0;34m=\u001b[0m\u001b[0;34m(\u001b[0m\u001b[0;36m1\u001b[0m\u001b[0;34m,\u001b[0m\u001b[0;36m2\u001b[0m\u001b[0;34m,\u001b[0m\u001b[0;36m3\u001b[0m\u001b[0;34m,\u001b[0m\u001b[0;36m4\u001b[0m\u001b[0;34m)\u001b[0m\u001b[0;34m\u001b[0m\u001b[0;34m\u001b[0m\u001b[0m\n\u001b[1;32m      2\u001b[0m \u001b[0mprint\u001b[0m\u001b[0;34m(\u001b[0m\u001b[0ma\u001b[0m\u001b[0;34m)\u001b[0m\u001b[0;34m\u001b[0m\u001b[0;34m\u001b[0m\u001b[0m\n\u001b[0;32m----> 3\u001b[0;31m \u001b[0ma\u001b[0m\u001b[0;34m[\u001b[0m\u001b[0;36m2\u001b[0m\u001b[0;34m]\u001b[0m\u001b[0;34m=\u001b[0m\u001b[0;36m7\u001b[0m\u001b[0;34m\u001b[0m\u001b[0;34m\u001b[0m\u001b[0m\n\u001b[0m",
            "\u001b[0;31mTypeError\u001b[0m: 'tuple' object does not support item assignment"
          ]
        }
      ]
    },
    {
      "cell_type": "markdown",
      "metadata": {
        "id": "txLQJiT3ItQr",
        "colab_type": "text"
      },
      "source": [
        "# 3. 사전 자료형"
      ]
    },
    {
      "cell_type": "markdown",
      "metadata": {
        "id": "HFGSQKgjI7c9",
        "colab_type": "text"
      },
      "source": [
        "키와 값이 있는데, 변경 불가능한 값을 키로 잡음"
      ]
    },
    {
      "cell_type": "code",
      "metadata": {
        "id": "qJkCaESwIlnB",
        "colab_type": "code",
        "colab": {
          "base_uri": "https://localhost:8080/",
          "height": 35
        },
        "outputId": "7acaa05b-f155-4007-b791-74c757fc159e"
      },
      "source": [
        "data=dict()\n",
        "data['사과']='Apple' ; data['바나나']='Banana'; data['코코넛']='Coconut'\n",
        "print(data)"
      ],
      "execution_count": null,
      "outputs": [
        {
          "output_type": "stream",
          "text": [
            "{'사과': 'Apple', '바나나': 'Banana', '코코넛': 'Coconut'}\n"
          ],
          "name": "stdout"
        }
      ]
    },
    {
      "cell_type": "markdown",
      "metadata": {
        "id": "fszjpItgKFfS",
        "colab_type": "text"
      },
      "source": [
        "원소가 사전 안에 있는지 확인"
      ]
    },
    {
      "cell_type": "code",
      "metadata": {
        "id": "WvhGN5xmJKop",
        "colab_type": "code",
        "colab": {
          "base_uri": "https://localhost:8080/",
          "height": 35
        },
        "outputId": "6e584da9-c397-44df-b382-1aa1216b9b28"
      },
      "source": [
        "if '사과' in data:\n",
        "  print('Yes')"
      ],
      "execution_count": null,
      "outputs": [
        {
          "output_type": "stream",
          "text": [
            "Yes\n"
          ],
          "name": "stdout"
        }
      ]
    },
    {
      "cell_type": "markdown",
      "metadata": {
        "id": "lIjoerEfKQ88",
        "colab_type": "text"
      },
      "source": [
        "관련 함수 : keys(), values()"
      ]
    },
    {
      "cell_type": "code",
      "metadata": {
        "id": "q3polpC1KMkY",
        "colab_type": "code",
        "colab": {
          "base_uri": "https://localhost:8080/",
          "height": 107
        },
        "outputId": "d189bf50-d140-46dc-e65d-802723b21ef8"
      },
      "source": [
        "key_list = data.keys()\n",
        "value_list = data.values()\n",
        "print(key_list)\n",
        "print(value_list)\n",
        "\n",
        "for key in key_list:\n",
        "  print(data[key])"
      ],
      "execution_count": null,
      "outputs": [
        {
          "output_type": "stream",
          "text": [
            "dict_keys(['사과', '바나나', '코코넛'])\n",
            "dict_values(['Apple', 'Banana', 'Coconut'])\n",
            "Apple\n",
            "Banana\n",
            "Coconut\n"
          ],
          "name": "stdout"
        }
      ]
    },
    {
      "cell_type": "markdown",
      "metadata": {
        "id": "24RJgZO0KmEf",
        "colab_type": "text"
      },
      "source": [
        "# 3. 집합 자료형"
      ]
    },
    {
      "cell_type": "markdown",
      "metadata": {
        "id": "NuydWdm_Kv8v",
        "colab_type": "text"
      },
      "source": [
        "- 중복허용 X\n",
        "- 순서 X"
      ]
    },
    {
      "cell_type": "code",
      "metadata": {
        "id": "56z-yX0UKke4",
        "colab_type": "code",
        "colab": {
          "base_uri": "https://localhost:8080/",
          "height": 53
        },
        "outputId": "6d156273-2454-43d1-d268-47cbf43e8e10"
      },
      "source": [
        "data=set([1,1,2,3,4,4,5])\n",
        "print(data)\n",
        "data={1,1,2,3,4,4,5}; print(data)"
      ],
      "execution_count": null,
      "outputs": [
        {
          "output_type": "stream",
          "text": [
            "{1, 2, 3, 4, 5}\n",
            "{1, 2, 3, 4, 5}\n"
          ],
          "name": "stdout"
        }
      ]
    },
    {
      "cell_type": "markdown",
      "metadata": {
        "id": "o-x1LcimLPjR",
        "colab_type": "text"
      },
      "source": [
        "- 합칩합, 교집합, 차집합 : |, &, -"
      ]
    },
    {
      "cell_type": "code",
      "metadata": {
        "id": "Zr0ihNSwLG97",
        "colab_type": "code",
        "colab": {
          "base_uri": "https://localhost:8080/",
          "height": 71
        },
        "outputId": "0ca89dc4-c5fe-4580-de10-bf0cd6403d77"
      },
      "source": [
        "a=set(list(range(1,6)))\n",
        "b=set(list(range(3,8)))\n",
        "print(a|b)\n",
        "print(a&b)\n",
        "print(a-b)"
      ],
      "execution_count": null,
      "outputs": [
        {
          "output_type": "stream",
          "text": [
            "{1, 2, 3, 4, 5, 6, 7}\n",
            "{3, 4, 5}\n",
            "{1, 2}\n"
          ],
          "name": "stdout"
        }
      ]
    },
    {
      "cell_type": "markdown",
      "metadata": {
        "id": "Ppyrw051N-OP",
        "colab_type": "text"
      },
      "source": [
        "- add(): 원소 추가\n",
        "- update(): 한 번에 여러 원소 추가\n",
        "- remove(): 특정 값 제거"
      ]
    },
    {
      "cell_type": "code",
      "metadata": {
        "id": "xOGE9oJpMfy1",
        "colab_type": "code",
        "colab": {
          "base_uri": "https://localhost:8080/",
          "height": 89
        },
        "outputId": "9ddb097b-8a7c-4a73-88ad-3bea0f8aef08"
      },
      "source": [
        "data=set([1,2,3])\n",
        "print(data)\n",
        "\n",
        "data.add(4); print(data)\n",
        "data.update([5,6]); print(data)\n",
        "data.remove(3); print(data)"
      ],
      "execution_count": null,
      "outputs": [
        {
          "output_type": "stream",
          "text": [
            "{1, 2, 3}\n",
            "{1, 2, 3, 4}\n",
            "{1, 2, 3, 4, 5, 6}\n",
            "{1, 2, 4, 5, 6}\n"
          ],
          "name": "stdout"
        }
      ]
    },
    {
      "cell_type": "markdown",
      "metadata": {
        "id": "3x3GvCcKOqKo",
        "colab_type": "text"
      },
      "source": [
        "# 4. 조건문\n",
        "- 논리연산자 : X and Y, X or Y, not X\n",
        "- pass \n",
        "- 조건부 표현식"
      ]
    },
    {
      "cell_type": "code",
      "metadata": {
        "id": "T_z2TrJpOMzB",
        "colab_type": "code",
        "colab": {
          "base_uri": "https://localhost:8080/",
          "height": 35
        },
        "outputId": "c57426b5-a935-4f22-e174-a5722c925e53"
      },
      "source": [
        "a=[1,2,3,4,5,5,5]\n",
        "remove_set={3,5}\n",
        "\n",
        "result=[]\n",
        "for i in a:\n",
        "  if i not in remove_set:\n",
        "    result.append(i)\n",
        "\n",
        "print(result)"
      ],
      "execution_count": null,
      "outputs": [
        {
          "output_type": "stream",
          "text": [
            "[1, 2, 4]\n"
          ],
          "name": "stdout"
        }
      ]
    },
    {
      "cell_type": "code",
      "metadata": {
        "id": "uiyIwFW3PZMT",
        "colab_type": "code",
        "colab": {
          "base_uri": "https://localhost:8080/",
          "height": 35
        },
        "outputId": "febfdb9e-8a62-42f1-c956-a8d8af3cc5b1"
      },
      "source": [
        "a=[1,2,3,4,5,5,5]\n",
        "remove_set={3,5}\n",
        "result=[i for i in a if i not in remove_set]\n",
        "print(result)"
      ],
      "execution_count": null,
      "outputs": [
        {
          "output_type": "stream",
          "text": [
            "[1, 2, 4]\n"
          ],
          "name": "stdout"
        }
      ]
    },
    {
      "cell_type": "markdown",
      "metadata": {
        "id": "RWIskSF0Pk7O",
        "colab_type": "text"
      },
      "source": [
        "# 5. 반복문\n",
        "- while을 이용하여 1~9 덧셈"
      ]
    },
    {
      "cell_type": "code",
      "metadata": {
        "id": "VrGx-t_5PiKI",
        "colab_type": "code",
        "colab": {
          "base_uri": "https://localhost:8080/",
          "height": 35
        },
        "outputId": "4099fc56-94b1-4bcd-dcbc-aab0bb737555"
      },
      "source": [
        "i=1; result=0\n",
        "\n",
        "while i<=9:\n",
        "  result += i\n",
        "  i += 1\n",
        "\n",
        "print(result)"
      ],
      "execution_count": null,
      "outputs": [
        {
          "output_type": "stream",
          "text": [
            "45\n"
          ],
          "name": "stdout"
        }
      ]
    },
    {
      "cell_type": "markdown",
      "metadata": {
        "id": "BAszcUmUQLWf",
        "colab_type": "text"
      },
      "source": [
        "- for를 이용하여 1~9 덧셈"
      ]
    },
    {
      "cell_type": "code",
      "metadata": {
        "id": "nbKeg1BsP9gg",
        "colab_type": "code",
        "colab": {
          "base_uri": "https://localhost:8080/",
          "height": 35
        },
        "outputId": "85176939-2be3-4134-b335-5dcb765d0fc8"
      },
      "source": [
        "result = 0\n",
        "for i in range(1,10):\n",
        "  result += i\n",
        "print(result)"
      ],
      "execution_count": null,
      "outputs": [
        {
          "output_type": "stream",
          "text": [
            "45\n"
          ],
          "name": "stdout"
        }
      ]
    },
    {
      "cell_type": "markdown",
      "metadata": {
        "id": "4hDtmYQ0TqVZ",
        "colab_type": "text"
      },
      "source": [
        "- continue는 만나면 처음으로 돌아가는거고 pass는 그냥 밑으로 가는거"
      ]
    },
    {
      "cell_type": "markdown",
      "metadata": {
        "id": "jdPGhho8Tcyb",
        "colab_type": "text"
      },
      "source": [
        "# 6. 함수(20200910)"
      ]
    },
    {
      "cell_type": "code",
      "metadata": {
        "id": "3_ztsYq2ThqD",
        "colab_type": "code",
        "colab": {
          "base_uri": "https://localhost:8080/",
          "height": 33
        },
        "outputId": "184b1c8d-fd3f-4108-f958-b68d7767d866"
      },
      "source": [
        "def add(a,b):\n",
        "  return a+b\n",
        "\n",
        "print(add(2,3))"
      ],
      "execution_count": null,
      "outputs": [
        {
          "output_type": "stream",
          "text": [
            "5\n"
          ],
          "name": "stdout"
        }
      ]
    },
    {
      "cell_type": "code",
      "metadata": {
        "id": "YsQbQqsVUTXA",
        "colab_type": "code",
        "colab": {
          "base_uri": "https://localhost:8080/",
          "height": 33
        },
        "outputId": "c7f65f9d-d648-4001-961b-259dc9eb1942"
      },
      "source": [
        "def add(a,b):\n",
        "  print(a+b)\n",
        "add(2,3)"
      ],
      "execution_count": null,
      "outputs": [
        {
          "output_type": "stream",
          "text": [
            "5\n"
          ],
          "name": "stdout"
        }
      ]
    },
    {
      "cell_type": "code",
      "metadata": {
        "id": "8z8zEa_RUcSo",
        "colab_type": "code",
        "colab": {
          "base_uri": "https://localhost:8080/",
          "height": 33
        },
        "outputId": "8ec47789-2b57-4e36-b932-38adb84712ba"
      },
      "source": [
        "a=0\n",
        "\n",
        "def func():\n",
        "  global a\n",
        "  a+=1\n",
        "\n",
        "for i in range(10):\n",
        "  func()\n",
        "\n",
        "print(a)"
      ],
      "execution_count": null,
      "outputs": [
        {
          "output_type": "stream",
          "text": [
            "10\n"
          ],
          "name": "stdout"
        }
      ]
    },
    {
      "cell_type": "markdown",
      "metadata": {
        "id": "5AaBwbxiViQP",
        "colab_type": "text"
      },
      "source": [
        "- lambda : (lambda 원소 : 함수)(실행 원소)"
      ]
    },
    {
      "cell_type": "code",
      "metadata": {
        "id": "XvtxndvfVV7g",
        "colab_type": "code",
        "colab": {
          "base_uri": "https://localhost:8080/",
          "height": 33
        },
        "outputId": "4b852c4e-a898-4cfa-b618-efbdbdba2f1a"
      },
      "source": [
        "print((lambda a,b: a+b)(3,7))"
      ],
      "execution_count": null,
      "outputs": [
        {
          "output_type": "stream",
          "text": [
            "10\n"
          ],
          "name": "stdout"
        }
      ]
    },
    {
      "cell_type": "markdown",
      "metadata": {
        "id": "icOHcye0VsdQ",
        "colab_type": "text"
      },
      "source": [
        "# 7. 입출력"
      ]
    },
    {
      "cell_type": "markdown",
      "metadata": {
        "id": "j6bkR8GuW-zi",
        "colab_type": "text"
      },
      "source": [
        "- list(map(int,input().split())) : 띄워진 것을 입력받아 정수로 바꿀 때 "
      ]
    },
    {
      "cell_type": "code",
      "metadata": {
        "id": "DLym2l0qVhMC",
        "colab_type": "code",
        "colab": {
          "base_uri": "https://localhost:8080/",
          "height": 66
        },
        "outputId": "eeb321ff-8494-47c5-b2e0-7bab58bb0100"
      },
      "source": [
        "n=int(input())\n",
        "\n",
        "data=list(map(int,input().split()))\n",
        "\n",
        "data.sort(reverse=True)\n",
        "print(data)"
      ],
      "execution_count": null,
      "outputs": [
        {
          "output_type": "stream",
          "text": [
            "5\n",
            "65 90 75 34 99\n",
            "[99, 90, 75, 65, 34]\n"
          ],
          "name": "stdout"
        }
      ]
    },
    {
      "cell_type": "markdown",
      "metadata": {
        "id": "IwOftg3DXgKb",
        "colab_type": "text"
      },
      "source": [
        "- sys 라이브러리의 sys.stdin.readline().rstrip() 이용.\n",
        "- rstrip()은 엔터 입력 방지"
      ]
    },
    {
      "cell_type": "code",
      "metadata": {
        "id": "HFKgzk_mXIAt",
        "colab_type": "code",
        "colab": {
          "base_uri": "https://localhost:8080/",
          "height": 33
        },
        "outputId": "f9c5863e-b5e8-42a5-a41a-d8939077d32d"
      },
      "source": [
        "import sys\n",
        "data = sys.stdin.readline().rstrip()\n",
        "print(data)"
      ],
      "execution_count": null,
      "outputs": [
        {
          "output_type": "stream",
          "text": [
            "\n"
          ],
          "name": "stdout"
        }
      ]
    },
    {
      "cell_type": "markdown",
      "metadata": {
        "id": "EplXZ-zCcc1K",
        "colab_type": "text"
      },
      "source": [
        "- 그냥 출력 vs 줄 바꿔서 출력\n",
        "- 문자열과 수를 함께 출력 : f' {}' 문법 좋음"
      ]
    },
    {
      "cell_type": "code",
      "metadata": {
        "id": "IiDk-Xs-ZvLH",
        "colab_type": "code",
        "colab": {
          "base_uri": "https://localhost:8080/",
          "height": 33
        },
        "outputId": "d6d4fd5c-6d39-4eff-ceff-4fa684ebb79a"
      },
      "source": [
        "a=1 ;b=1\n",
        "print(a,b)"
      ],
      "execution_count": null,
      "outputs": [
        {
          "output_type": "stream",
          "text": [
            "1 1\n"
          ],
          "name": "stdout"
        }
      ]
    },
    {
      "cell_type": "code",
      "metadata": {
        "id": "QwjzR9pfclli",
        "colab_type": "code",
        "colab": {
          "base_uri": "https://localhost:8080/",
          "height": 50
        },
        "outputId": "668c041e-8cf4-42a2-ee6c-b9de5e766c63"
      },
      "source": [
        "a=1;b=1\n",
        "print(a)\n",
        "print(b)"
      ],
      "execution_count": null,
      "outputs": [
        {
          "output_type": "stream",
          "text": [
            "1\n",
            "1\n"
          ],
          "name": "stdout"
        }
      ]
    },
    {
      "cell_type": "code",
      "metadata": {
        "id": "7KrwlJTDcnva",
        "colab_type": "code",
        "colab": {
          "base_uri": "https://localhost:8080/",
          "height": 50
        },
        "outputId": "86dd4156-42c7-4f73-8b01-6b6de8040eaf"
      },
      "source": [
        "answer=7\n",
        "print('정답은 '+str(answer)+'입니다')\n",
        "print(f'정답은 {7}입니다')"
      ],
      "execution_count": null,
      "outputs": [
        {
          "output_type": "stream",
          "text": [
            "정답은 7입니다\n",
            "정답은 7입니다\n"
          ],
          "name": "stdout"
        }
      ]
    },
    {
      "cell_type": "markdown",
      "metadata": {
        "id": "1aQdG063dgVz",
        "colab_type": "text"
      },
      "source": [
        "# 8. 주요 라이브러리\n",
        "- 내장함수\n",
        "- itertools : 반복 형태 처리\n",
        "- heapq : 힙 기능 제공\n",
        "- bisect : 이진 탐색\n",
        "- collections : 덱, 카운터 등의 유용한 자료구조 포함\n",
        "- math : 수학적 기능"
      ]
    },
    {
      "cell_type": "markdown",
      "metadata": {
        "id": "fzUfsj2HeFbX",
        "colab_type": "text"
      },
      "source": [
        "- 내장함수 : sum(), min(), eval(), sorted(), sort()\n",
        "- sorted() : 리스트 안에 튜플이나 리스트가 있을 때, 정렬 기준을 key를 통해 잡을 수 있음."
      ]
    },
    {
      "cell_type": "code",
      "metadata": {
        "id": "xW0xR6cBctAh",
        "colab_type": "code",
        "colab": {
          "base_uri": "https://localhost:8080/",
          "height": 100
        },
        "outputId": "52f4f808-511d-40e2-a8c3-e27d7dfe6ec7"
      },
      "source": [
        "result = sum([1,2,3,4,5]); print(result)\n",
        "result = min(7,3,5,2); print(result)\n",
        "result = eval(\"(3+5)*7\"); print(result)\n",
        "result = sorted([9,1,5,8,4],reverse=True)\n",
        "result = sorted([('홍길동',35),('이순신',75),('아무개',50)],key=lambda x : x[1],reverse=True); print(result)\n",
        "data=[9,1,5,8,4]; data.sort(); print(data)"
      ],
      "execution_count": null,
      "outputs": [
        {
          "output_type": "stream",
          "text": [
            "15\n",
            "2\n",
            "56\n",
            "[('이순신', 75), ('아무개', 50), ('홍길동', 35)]\n",
            "[1, 4, 5, 8, 9]\n"
          ],
          "name": "stdout"
        }
      ]
    },
    {
      "cell_type": "markdown",
      "metadata": {
        "id": "K2xCQRR1gcfD",
        "colab_type": "text"
      },
      "source": [
        "- itertools : permutations, combinations, product, combinations_with_replacement\n",
        "- 순열, 조합, 중복순열, 중복조합\n",
        "- permutation()은 클래스니까 리스트화 시켜야 함\n",
        "- product()에 repeat=반복수 넣는 것이 특징"
      ]
    },
    {
      "cell_type": "code",
      "metadata": {
        "id": "BNT3p91ifQBA",
        "colab_type": "code",
        "colab": {
          "base_uri": "https://localhost:8080/",
          "height": 83
        },
        "outputId": "986e2f88-25a3-4bd8-a2d7-6b58b2b1f3b2"
      },
      "source": [
        "from itertools import permutations,combinations,product,combinations_with_replacement\n",
        "data=['A','B','C']\n",
        "print(list(permutations(data,2)))\n",
        "print(list(combinations(data,2)))\n",
        "print(list(product(data,repeat=2)))\n",
        "print(list(combinations_with_replacement(data,2)))\n"
      ],
      "execution_count": null,
      "outputs": [
        {
          "output_type": "stream",
          "text": [
            "[('A', 'B'), ('A', 'C'), ('B', 'A'), ('B', 'C'), ('C', 'A'), ('C', 'B')]\n",
            "[('A', 'B'), ('A', 'C'), ('B', 'C')]\n",
            "[('A', 'A'), ('A', 'B'), ('A', 'C'), ('B', 'A'), ('B', 'B'), ('B', 'C'), ('C', 'A'), ('C', 'B'), ('C', 'C')]\n",
            "[('A', 'A'), ('A', 'B'), ('A', 'C'), ('B', 'B'), ('B', 'C'), ('C', 'C')]\n"
          ],
          "name": "stdout"
        }
      ]
    },
    {
      "cell_type": "code",
      "metadata": {
        "id": "fTfAIdFYflVa",
        "colab_type": "code",
        "colab": {
          "base_uri": "https://localhost:8080/",
          "height": 53
        },
        "outputId": "c5765cf0-c392-424a-c848-8e59cc1f3cbf"
      },
      "source": [
        "print(list(product(data,repeat=3)))"
      ],
      "execution_count": null,
      "outputs": [
        {
          "output_type": "stream",
          "text": [
            "[('A', 'A', 'A'), ('A', 'A', 'B'), ('A', 'A', 'C'), ('A', 'B', 'A'), ('A', 'B', 'B'), ('A', 'B', 'C'), ('A', 'C', 'A'), ('A', 'C', 'B'), ('A', 'C', 'C'), ('B', 'A', 'A'), ('B', 'A', 'B'), ('B', 'A', 'C'), ('B', 'B', 'A'), ('B', 'B', 'B'), ('B', 'B', 'C'), ('B', 'C', 'A'), ('B', 'C', 'B'), ('B', 'C', 'C'), ('C', 'A', 'A'), ('C', 'A', 'B'), ('C', 'A', 'C'), ('C', 'B', 'A'), ('C', 'B', 'B'), ('C', 'B', 'C'), ('C', 'C', 'A'), ('C', 'C', 'B'), ('C', 'C', 'C')]\n"
          ],
          "name": "stdout"
        }
      ]
    },
    {
      "cell_type": "markdown",
      "metadata": {
        "id": "gbUsgtbocm2P",
        "colab_type": "text"
      },
      "source": [
        "- heapq(20200911) : 힙기능, 우선순위 큐"
      ]
    },
    {
      "cell_type": "code",
      "metadata": {
        "id": "YGgAhA-QiDG_",
        "colab_type": "code",
        "colab": {
          "base_uri": "https://localhost:8080/",
          "height": 35
        },
        "outputId": "4f9296cf-3695-4deb-e30b-06ef6330dd43"
      },
      "source": [
        "import heapq\n",
        "\n",
        "def heapsort(iterable):\n",
        "  h=[]\n",
        "  result=[]\n",
        "  # 모든 원소를 차례대로 힙에 삽입\n",
        "  for value in iterable:\n",
        "    heapq.heappush(h,value)\n",
        "  # 힙에 삽입된 모든 원소를 차례대로 꺼내어 담기\n",
        "  for i in range(len(h)):\n",
        "    result.append(heapq.heappop(h))\n",
        "  return result\n",
        "\n",
        "result = heapsort([1,3,5,7,9,2,4,6,8,0])\n",
        "print(result)"
      ],
      "execution_count": 2,
      "outputs": [
        {
          "output_type": "stream",
          "text": [
            "[0, 1, 2, 3, 4, 5, 6, 7, 8, 9]\n"
          ],
          "name": "stdout"
        }
      ]
    },
    {
      "cell_type": "code",
      "metadata": {
        "id": "rT_vB7CMepbk",
        "colab_type": "code",
        "colab": {
          "base_uri": "https://localhost:8080/",
          "height": 52
        },
        "outputId": "5ba0252f-c3c5-423b-cbca-bf905fee4252"
      },
      "source": [
        "def heapsort(iterable):\n",
        "  h=[]\n",
        "  result=[]\n",
        "  # 모든 원소를 차례대로 힙에 삽입\n",
        "  for value in iterable:\n",
        "    heapq.heappush(h,-value)\n",
        "  # 힙에 삽입된 모든 원소를 차례대로 꺼내어 담기\n",
        "  for i in range(len(h)):\n",
        "    result.append(-heapq.heappop(h))\n",
        "  return result\n",
        "\n",
        "result = heapsort([1,3,5,7,9,2,4,6,8,0])\n",
        "print(result)"
      ],
      "execution_count": 4,
      "outputs": [
        {
          "output_type": "stream",
          "text": [
            "[-9, -8, -4, -7, -5, -2, -3, -1, -6, 0]\n",
            "[9, 8, 7, 6, 5, 4, 3, 2, 1, 0]\n"
          ],
          "name": "stdout"
        }
      ]
    },
    {
      "cell_type": "markdown",
      "metadata": {
        "id": "9eglMQpRgGKb",
        "colab_type": "text"
      },
      "source": [
        "- bisect : 정렬된 배열에서 순서 유지한 채로 삽입\n",
        "- bisect_left(a,x): a 리스트에서 x 값을 삽입할 가장 왼쪽 인덱스 찾아서 삽입"
      ]
    },
    {
      "cell_type": "code",
      "metadata": {
        "id": "qQxbw4Btf1mx",
        "colab_type": "code",
        "colab": {
          "base_uri": "https://localhost:8080/",
          "height": 52
        },
        "outputId": "0ef31291-abba-4563-e2e4-8f095672f20e"
      },
      "source": [
        "from bisect import bisect_left,bisect_right\n",
        "\n",
        "a=[1,2,4,4,8]\n",
        "x=4\n",
        "\n",
        "print(bisect_left(a,x))\n",
        "print(bisect_right(a,x))"
      ],
      "execution_count": 5,
      "outputs": [
        {
          "output_type": "stream",
          "text": [
            "2\n",
            "4\n"
          ],
          "name": "stdout"
        }
      ]
    },
    {
      "cell_type": "code",
      "metadata": {
        "id": "7YSo7IfJiP1a",
        "colab_type": "code",
        "colab": {
          "base_uri": "https://localhost:8080/",
          "height": 52
        },
        "outputId": "3cdc22a5-caa5-4e5e-fe71-e09374a62a2b"
      },
      "source": [
        "# 특정 값 안 개수 구하기\n",
        "def count_by_range(a,left_value,right_value):\n",
        "  right_index=bisect_right(a,right_value)\n",
        "  left_index=bisect_left(a,left_value)\n",
        "  return right_index-left_index\n",
        "\n",
        "a=[1,2,3,3,3,3,4,4,8,9]\n",
        "print(count_by_range(a,4,4))\n",
        "print(count_by_range(a,-1,3))"
      ],
      "execution_count": 7,
      "outputs": [
        {
          "output_type": "stream",
          "text": [
            "2\n",
            "6\n"
          ],
          "name": "stdout"
        }
      ]
    },
    {
      "cell_type": "markdown",
      "metadata": {
        "id": "nTHQf35ajSco",
        "colab_type": "text"
      },
      "source": [
        "- collections : deque와 counter 클래스\n",
        "- deque는 가장 앞쪽이나 뒷쪽에 원소를 추가하거나 삭제할 때 유용. 다만, 슬라이싱과 인덱싱은 안됌\n",
        "- counter는 등장 횟수를 세는 기능"
      ]
    },
    {
      "cell_type": "code",
      "metadata": {
        "id": "vWy0Not0jGvb",
        "colab_type": "code",
        "colab": {
          "base_uri": "https://localhost:8080/",
          "height": 88
        },
        "outputId": "880d3cd2-bcc1-4995-e86e-fe95ad16f804"
      },
      "source": [
        "from collections import deque\n",
        "\n",
        "data = deque([2,3,4])\n",
        "data.appendleft(1)\n",
        "data.append(5)\n",
        "print(data)\n",
        "print(list(data))\n",
        "data.pop()\n",
        "data.popleft()\n",
        "print(data)\n",
        "print(list(data))"
      ],
      "execution_count": 9,
      "outputs": [
        {
          "output_type": "stream",
          "text": [
            "deque([1, 2, 3, 4, 5])\n",
            "[1, 2, 3, 4, 5]\n",
            "deque([2, 3, 4])\n",
            "[2, 3, 4]\n"
          ],
          "name": "stdout"
        }
      ]
    },
    {
      "cell_type": "code",
      "metadata": {
        "id": "GGmP9k_ul0At",
        "colab_type": "code",
        "colab": {
          "base_uri": "https://localhost:8080/",
          "height": 70
        },
        "outputId": "4943b5c4-52c3-4084-9dbe-d4288eb62625"
      },
      "source": [
        "from collections import Counter\n",
        "counter = Counter(['red','blue','red','green','blue','blue'])\n",
        "\n",
        "print(counter['blue'])\n",
        "print(counter)\n",
        "print(dict(counter))"
      ],
      "execution_count": 12,
      "outputs": [
        {
          "output_type": "stream",
          "text": [
            "3\n",
            "Counter({'blue': 3, 'red': 2, 'green': 1})\n",
            "{'red': 2, 'blue': 3, 'green': 1}\n"
          ],
          "name": "stdout"
        }
      ]
    },
    {
      "cell_type": "markdown",
      "metadata": {
        "id": "hzOfAkqlmQha",
        "colab_type": "text"
      },
      "source": [
        "- math 라이브러리\n",
        "- 20200911에는 교재 53페이지까지 학습"
      ]
    },
    {
      "cell_type": "code",
      "metadata": {
        "id": "VCOEoMckmFYh",
        "colab_type": "code",
        "colab": {
          "base_uri": "https://localhost:8080/",
          "height": 106
        },
        "outputId": "9ddf2eca-e562-4c0d-a9a5-dfab041e825b"
      },
      "source": [
        "import math\n",
        "print(math.factorial(5))\n",
        "print(math.sqrt(7))\n",
        "print(math.gcd(21,14))\n",
        "print(math.pi)\n",
        "print(math.e)"
      ],
      "execution_count": 14,
      "outputs": [
        {
          "output_type": "stream",
          "text": [
            "120\n",
            "2.6457513110645907\n",
            "7\n",
            "3.141592653589793\n",
            "2.718281828459045\n"
          ],
          "name": "stdout"
        }
      ]
    },
    {
      "cell_type": "markdown",
      "metadata": {
        "id": "Wj-Lg8ZarryH",
        "colab_type": "text"
      },
      "source": [
        ""
      ]
    }
  ]
}