{
  "nbformat": 4,
  "nbformat_minor": 0,
  "metadata": {
    "colab": {
      "name": "이것이 취업을 위한 코딩테스트 part1~그리디.ipynb",
      "provenance": []
    },
    "kernelspec": {
      "name": "python3",
      "display_name": "Python 3"
    }
  },
  "cells": [
    {
      "cell_type": "markdown",
      "metadata": {
        "id": "B-RMxgU6u6BR",
        "colab_type": "text"
      },
      "source": [
        "# 1. 복잡도"
      ]
    },
    {
      "cell_type": "code",
      "metadata": {
        "id": "Cu0dAjRluw3q",
        "colab_type": "code",
        "colab": {
          "base_uri": "https://localhost:8080/",
          "height": 52
        },
        "outputId": "c8985d55-b669-43c7-adf1-55603146ae43"
      },
      "source": [
        "# 수행시간 측정\n",
        "import time\n",
        "start_time = time.time()\n",
        "\n",
        "a=1; b=1;\n",
        "print(a+b)\n",
        "\n",
        "end_time = time.time()\n",
        "print(f'time :{round(end_time-start_time,6)}')"
      ],
      "execution_count": 8,
      "outputs": [
        {
          "output_type": "stream",
          "text": [
            "2\n",
            "time :0.000452\n"
          ],
          "name": "stdout"
        }
      ]
    },
    {
      "cell_type": "code",
      "metadata": {
        "id": "T245pa3bvRc_",
        "colab_type": "code",
        "colab": {}
      },
      "source": [
        ""
      ],
      "execution_count": null,
      "outputs": []
    }
  ]
}