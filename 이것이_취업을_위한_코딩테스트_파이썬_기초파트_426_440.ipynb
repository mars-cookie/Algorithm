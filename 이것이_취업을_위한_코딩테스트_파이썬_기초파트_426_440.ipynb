{
  "nbformat": 4,
  "nbformat_minor": 0,
  "metadata": {
    "colab": {
      "name": "이것이 취업을 위한 코딩테스트 파이썬 기초파트 426~440.ipynb",
      "provenance": [],
      "collapsed_sections": []
    },
    "kernelspec": {
      "name": "python3",
      "display_name": "Python 3"
    }
  },
  "cells": [
    {
      "cell_type": "markdown",
      "metadata": {
        "id": "y9vKvYINF_Zc",
        "colab_type": "text"
      },
      "source": [
        "# 1. 문자열 자료형"
      ]
    },
    {
      "cell_type": "markdown",
      "metadata": {
        "id": "tR8drMk0GD8s",
        "colab_type": "text"
      },
      "source": [
        "문자열 초기화에는 '' \"\" 사용"
      ]
    },
    {
      "cell_type": "code",
      "metadata": {
        "id": "KwDs2YgTFreZ",
        "colab_type": "code",
        "colab": {
          "base_uri": "https://localhost:8080/",
          "height": 53
        },
        "outputId": "c3bb2568-8140-4d5c-ca9e-8bbcd72373aa"
      },
      "source": [
        "data='Hello world'; print(data)\n",
        "data='' ;print(data)"
      ],
      "execution_count": null,
      "outputs": [
        {
          "output_type": "stream",
          "text": [
            "Hello world\n",
            "\n"
          ],
          "name": "stdout"
        }
      ]
    },
    {
      "cell_type": "markdown",
      "metadata": {
        "id": "Ur6FVimvGMcu",
        "colab_type": "text"
      },
      "source": [
        "따옴표 넣기"
      ]
    },
    {
      "cell_type": "code",
      "metadata": {
        "id": "PrSGYDNaFs-Y",
        "colab_type": "code",
        "colab": {
          "base_uri": "https://localhost:8080/",
          "height": 35
        },
        "outputId": "13c13607-bd21-416e-dbe1-a13965cdd604"
      },
      "source": [
        "data='Don\\'t you know \\\"python\\\"'\n",
        "print(data)"
      ],
      "execution_count": null,
      "outputs": [
        {
          "output_type": "stream",
          "text": [
            "Don't you know \"python\"\n"
          ],
          "name": "stdout"
        }
      ]
    },
    {
      "cell_type": "markdown",
      "metadata": {
        "id": "YR1lOXYiH-0Q",
        "colab_type": "text"
      },
      "source": [
        "반복 출력"
      ]
    },
    {
      "cell_type": "code",
      "metadata": {
        "id": "CfMxN_1ZGZP4",
        "colab_type": "code",
        "colab": {
          "base_uri": "https://localhost:8080/",
          "height": 35
        },
        "outputId": "ff90d6c0-e0b8-46c8-e38a-87d932b1cea8"
      },
      "source": [
        "a='string'\n",
        "print(a*3)"
      ],
      "execution_count": null,
      "outputs": [
        {
          "output_type": "stream",
          "text": [
            "stringstringstring\n"
          ],
          "name": "stdout"
        }
      ]
    },
    {
      "cell_type": "markdown",
      "metadata": {
        "id": "zXLbRNx3IC3a",
        "colab_type": "text"
      },
      "source": [
        "슬라이싱 : 문자열은 한 글자마다 리스트 처리가 됌"
      ]
    },
    {
      "cell_type": "code",
      "metadata": {
        "id": "bu-hqSLTH-DQ",
        "colab_type": "code",
        "colab": {
          "base_uri": "https://localhost:8080/",
          "height": 35
        },
        "outputId": "ea354d59-506f-4d00-b963-07c866a93771"
      },
      "source": [
        "print(a[2:5])"
      ],
      "execution_count": null,
      "outputs": [
        {
          "output_type": "stream",
          "text": [
            "rin\n"
          ],
          "name": "stdout"
        }
      ]
    },
    {
      "cell_type": "markdown",
      "metadata": {
        "id": "zuleFcV0IQwK",
        "colab_type": "text"
      },
      "source": [
        "# 2. 튜플 자료형\n",
        "각 원소의 성질이 다를 때 사용. \n",
        "한 번 들어가면 변경이 안 됌."
      ]
    },
    {
      "cell_type": "code",
      "metadata": {
        "id": "KxoDWBwpIFJg",
        "colab_type": "code",
        "colab": {
          "base_uri": "https://localhost:8080/",
          "height": 226
        },
        "outputId": "67c5b1bb-73ca-42a8-a0fc-15c9db52056e"
      },
      "source": [
        "a=(1,2,3,4)\n",
        "print(a)\n",
        "a[2]=7"
      ],
      "execution_count": null,
      "outputs": [
        {
          "output_type": "stream",
          "text": [
            "(1, 2, 3, 4)\n"
          ],
          "name": "stdout"
        },
        {
          "output_type": "error",
          "ename": "TypeError",
          "evalue": "ignored",
          "traceback": [
            "\u001b[0;31m---------------------------------------------------------------------------\u001b[0m",
            "\u001b[0;31mTypeError\u001b[0m                                 Traceback (most recent call last)",
            "\u001b[0;32m<ipython-input-7-4f0dc2950ea1>\u001b[0m in \u001b[0;36m<module>\u001b[0;34m()\u001b[0m\n\u001b[1;32m      1\u001b[0m \u001b[0ma\u001b[0m\u001b[0;34m=\u001b[0m\u001b[0;34m(\u001b[0m\u001b[0;36m1\u001b[0m\u001b[0;34m,\u001b[0m\u001b[0;36m2\u001b[0m\u001b[0;34m,\u001b[0m\u001b[0;36m3\u001b[0m\u001b[0;34m,\u001b[0m\u001b[0;36m4\u001b[0m\u001b[0;34m)\u001b[0m\u001b[0;34m\u001b[0m\u001b[0;34m\u001b[0m\u001b[0m\n\u001b[1;32m      2\u001b[0m \u001b[0mprint\u001b[0m\u001b[0;34m(\u001b[0m\u001b[0ma\u001b[0m\u001b[0;34m)\u001b[0m\u001b[0;34m\u001b[0m\u001b[0;34m\u001b[0m\u001b[0m\n\u001b[0;32m----> 3\u001b[0;31m \u001b[0ma\u001b[0m\u001b[0;34m[\u001b[0m\u001b[0;36m2\u001b[0m\u001b[0;34m]\u001b[0m\u001b[0;34m=\u001b[0m\u001b[0;36m7\u001b[0m\u001b[0;34m\u001b[0m\u001b[0;34m\u001b[0m\u001b[0m\n\u001b[0m",
            "\u001b[0;31mTypeError\u001b[0m: 'tuple' object does not support item assignment"
          ]
        }
      ]
    },
    {
      "cell_type": "markdown",
      "metadata": {
        "id": "txLQJiT3ItQr",
        "colab_type": "text"
      },
      "source": [
        "# 3. 사전 자료형"
      ]
    },
    {
      "cell_type": "markdown",
      "metadata": {
        "id": "HFGSQKgjI7c9",
        "colab_type": "text"
      },
      "source": [
        "키와 값이 있는데, 변경 불가능한 값을 키로 잡음"
      ]
    },
    {
      "cell_type": "code",
      "metadata": {
        "id": "qJkCaESwIlnB",
        "colab_type": "code",
        "colab": {
          "base_uri": "https://localhost:8080/",
          "height": 35
        },
        "outputId": "7acaa05b-f155-4007-b791-74c757fc159e"
      },
      "source": [
        "data=dict()\n",
        "data['사과']='Apple' ; data['바나나']='Banana'; data['코코넛']='Coconut'\n",
        "print(data)"
      ],
      "execution_count": null,
      "outputs": [
        {
          "output_type": "stream",
          "text": [
            "{'사과': 'Apple', '바나나': 'Banana', '코코넛': 'Coconut'}\n"
          ],
          "name": "stdout"
        }
      ]
    },
    {
      "cell_type": "markdown",
      "metadata": {
        "id": "fszjpItgKFfS",
        "colab_type": "text"
      },
      "source": [
        "원소가 사전 안에 있는지 확인"
      ]
    },
    {
      "cell_type": "code",
      "metadata": {
        "id": "WvhGN5xmJKop",
        "colab_type": "code",
        "colab": {
          "base_uri": "https://localhost:8080/",
          "height": 35
        },
        "outputId": "6e584da9-c397-44df-b382-1aa1216b9b28"
      },
      "source": [
        "if '사과' in data:\n",
        "  print('Yes')"
      ],
      "execution_count": null,
      "outputs": [
        {
          "output_type": "stream",
          "text": [
            "Yes\n"
          ],
          "name": "stdout"
        }
      ]
    },
    {
      "cell_type": "markdown",
      "metadata": {
        "id": "lIjoerEfKQ88",
        "colab_type": "text"
      },
      "source": [
        "관련 함수 : keys(), values()"
      ]
    },
    {
      "cell_type": "code",
      "metadata": {
        "id": "q3polpC1KMkY",
        "colab_type": "code",
        "colab": {
          "base_uri": "https://localhost:8080/",
          "height": 107
        },
        "outputId": "d189bf50-d140-46dc-e65d-802723b21ef8"
      },
      "source": [
        "key_list = data.keys()\n",
        "value_list = data.values()\n",
        "print(key_list)\n",
        "print(value_list)\n",
        "\n",
        "for key in key_list:\n",
        "  print(data[key])"
      ],
      "execution_count": null,
      "outputs": [
        {
          "output_type": "stream",
          "text": [
            "dict_keys(['사과', '바나나', '코코넛'])\n",
            "dict_values(['Apple', 'Banana', 'Coconut'])\n",
            "Apple\n",
            "Banana\n",
            "Coconut\n"
          ],
          "name": "stdout"
        }
      ]
    },
    {
      "cell_type": "markdown",
      "metadata": {
        "id": "24RJgZO0KmEf",
        "colab_type": "text"
      },
      "source": [
        "# 3. 집합 자료형"
      ]
    },
    {
      "cell_type": "markdown",
      "metadata": {
        "id": "NuydWdm_Kv8v",
        "colab_type": "text"
      },
      "source": [
        "- 중복허용 X\n",
        "- 순서 X"
      ]
    },
    {
      "cell_type": "code",
      "metadata": {
        "id": "56z-yX0UKke4",
        "colab_type": "code",
        "colab": {
          "base_uri": "https://localhost:8080/",
          "height": 53
        },
        "outputId": "6d156273-2454-43d1-d268-47cbf43e8e10"
      },
      "source": [
        "data=set([1,1,2,3,4,4,5])\n",
        "print(data)\n",
        "data={1,1,2,3,4,4,5}; print(data)"
      ],
      "execution_count": null,
      "outputs": [
        {
          "output_type": "stream",
          "text": [
            "{1, 2, 3, 4, 5}\n",
            "{1, 2, 3, 4, 5}\n"
          ],
          "name": "stdout"
        }
      ]
    },
    {
      "cell_type": "markdown",
      "metadata": {
        "id": "o-x1LcimLPjR",
        "colab_type": "text"
      },
      "source": [
        "- 합칩합, 교집합, 차집합 : |, &, -"
      ]
    },
    {
      "cell_type": "code",
      "metadata": {
        "id": "Zr0ihNSwLG97",
        "colab_type": "code",
        "colab": {
          "base_uri": "https://localhost:8080/",
          "height": 71
        },
        "outputId": "0ca89dc4-c5fe-4580-de10-bf0cd6403d77"
      },
      "source": [
        "a=set(list(range(1,6)))\n",
        "b=set(list(range(3,8)))\n",
        "print(a|b)\n",
        "print(a&b)\n",
        "print(a-b)"
      ],
      "execution_count": null,
      "outputs": [
        {
          "output_type": "stream",
          "text": [
            "{1, 2, 3, 4, 5, 6, 7}\n",
            "{3, 4, 5}\n",
            "{1, 2}\n"
          ],
          "name": "stdout"
        }
      ]
    },
    {
      "cell_type": "markdown",
      "metadata": {
        "id": "Ppyrw051N-OP",
        "colab_type": "text"
      },
      "source": [
        "- add(): 원소 추가\n",
        "- update(): 한 번에 여러 원소 추가\n",
        "- remove(): 특정 값 제거"
      ]
    },
    {
      "cell_type": "code",
      "metadata": {
        "id": "xOGE9oJpMfy1",
        "colab_type": "code",
        "colab": {
          "base_uri": "https://localhost:8080/",
          "height": 89
        },
        "outputId": "9ddb097b-8a7c-4a73-88ad-3bea0f8aef08"
      },
      "source": [
        "data=set([1,2,3])\n",
        "print(data)\n",
        "\n",
        "data.add(4); print(data)\n",
        "data.update([5,6]); print(data)\n",
        "data.remove(3); print(data)"
      ],
      "execution_count": null,
      "outputs": [
        {
          "output_type": "stream",
          "text": [
            "{1, 2, 3}\n",
            "{1, 2, 3, 4}\n",
            "{1, 2, 3, 4, 5, 6}\n",
            "{1, 2, 4, 5, 6}\n"
          ],
          "name": "stdout"
        }
      ]
    },
    {
      "cell_type": "markdown",
      "metadata": {
        "id": "3x3GvCcKOqKo",
        "colab_type": "text"
      },
      "source": [
        "# 4. 조건문\n",
        "- 논리연산자 : X and Y, X or Y, not X\n",
        "- pass \n",
        "- 조건부 표현식"
      ]
    },
    {
      "cell_type": "code",
      "metadata": {
        "id": "T_z2TrJpOMzB",
        "colab_type": "code",
        "colab": {
          "base_uri": "https://localhost:8080/",
          "height": 35
        },
        "outputId": "c57426b5-a935-4f22-e174-a5722c925e53"
      },
      "source": [
        "a=[1,2,3,4,5,5,5]\n",
        "remove_set={3,5}\n",
        "\n",
        "result=[]\n",
        "for i in a:\n",
        "  if i not in remove_set:\n",
        "    result.append(i)\n",
        "\n",
        "print(result)"
      ],
      "execution_count": null,
      "outputs": [
        {
          "output_type": "stream",
          "text": [
            "[1, 2, 4]\n"
          ],
          "name": "stdout"
        }
      ]
    },
    {
      "cell_type": "code",
      "metadata": {
        "id": "uiyIwFW3PZMT",
        "colab_type": "code",
        "colab": {
          "base_uri": "https://localhost:8080/",
          "height": 35
        },
        "outputId": "febfdb9e-8a62-42f1-c956-a8d8af3cc5b1"
      },
      "source": [
        "a=[1,2,3,4,5,5,5]\n",
        "remove_set={3,5}\n",
        "result=[i for i in a if i not in remove_set]\n",
        "print(result)"
      ],
      "execution_count": null,
      "outputs": [
        {
          "output_type": "stream",
          "text": [
            "[1, 2, 4]\n"
          ],
          "name": "stdout"
        }
      ]
    },
    {
      "cell_type": "markdown",
      "metadata": {
        "id": "RWIskSF0Pk7O",
        "colab_type": "text"
      },
      "source": [
        "# 5. 반복문\n",
        "- while을 이용하여 1~9 덧셈"
      ]
    },
    {
      "cell_type": "code",
      "metadata": {
        "id": "VrGx-t_5PiKI",
        "colab_type": "code",
        "colab": {
          "base_uri": "https://localhost:8080/",
          "height": 35
        },
        "outputId": "4099fc56-94b1-4bcd-dcbc-aab0bb737555"
      },
      "source": [
        "i=1; result=0\n",
        "\n",
        "while i<=9:\n",
        "  result += i\n",
        "  i += 1\n",
        "\n",
        "print(result)"
      ],
      "execution_count": null,
      "outputs": [
        {
          "output_type": "stream",
          "text": [
            "45\n"
          ],
          "name": "stdout"
        }
      ]
    },
    {
      "cell_type": "markdown",
      "metadata": {
        "id": "BAszcUmUQLWf",
        "colab_type": "text"
      },
      "source": [
        "- for를 이용하여 1~9 덧셈"
      ]
    },
    {
      "cell_type": "code",
      "metadata": {
        "id": "nbKeg1BsP9gg",
        "colab_type": "code",
        "colab": {
          "base_uri": "https://localhost:8080/",
          "height": 35
        },
        "outputId": "85176939-2be3-4134-b335-5dcb765d0fc8"
      },
      "source": [
        "result = 0\n",
        "for i in range(1,10):\n",
        "  result += i\n",
        "print(result)"
      ],
      "execution_count": null,
      "outputs": [
        {
          "output_type": "stream",
          "text": [
            "45\n"
          ],
          "name": "stdout"
        }
      ]
    },
    {
      "cell_type": "markdown",
      "metadata": {
        "id": "4hDtmYQ0TqVZ",
        "colab_type": "text"
      },
      "source": [
        "- continue는 만나면 처음으로 돌아가는거고 pass는 그냥 밑으로 가는거"
      ]
    },
    {
      "cell_type": "code",
      "metadata": {
        "id": "3_ztsYq2ThqD",
        "colab_type": "code",
        "colab": {}
      },
      "source": [
        ""
      ],
      "execution_count": null,
      "outputs": []
    }
  ]
}