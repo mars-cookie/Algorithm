{
  "nbformat": 4,
  "nbformat_minor": 0,
  "metadata": {
    "colab": {
      "name": "이것이 취업을 위한 코딩테스트 part1~그리디.ipynb",
      "provenance": [],
      "collapsed_sections": [],
      "authorship_tag": "ABX9TyOUG4wAjGL8jNWFaAFtKfEf",
      "include_colab_link": true
    },
    "kernelspec": {
      "name": "python3",
      "display_name": "Python 3"
    }
  },
  "cells": [
    {
      "cell_type": "markdown",
      "metadata": {
        "id": "view-in-github",
        "colab_type": "text"
      },
      "source": [
        "<a href=\"https://colab.research.google.com/github/mars-cookie/Algorithm/blob/master/%EC%9D%B4%EA%B2%83%EC%9D%B4_%EC%B7%A8%EC%97%85%EC%9D%84_%EC%9C%84%ED%95%9C_%EC%BD%94%EB%94%A9%ED%85%8C%EC%8A%A4%ED%8A%B8_part1~%EA%B7%B8%EB%A6%AC%EB%94%94.ipynb\" target=\"_parent\"><img src=\"https://colab.research.google.com/assets/colab-badge.svg\" alt=\"Open In Colab\"/></a>"
      ]
    },
    {
      "cell_type": "markdown",
      "metadata": {
        "id": "B-RMxgU6u6BR",
        "colab_type": "text"
      },
      "source": [
        "# 1. 복잡도"
      ]
    },
    {
      "cell_type": "code",
      "metadata": {
        "id": "Cu0dAjRluw3q",
        "colab_type": "code",
        "colab": {
          "base_uri": "https://localhost:8080/",
          "height": 52
        },
        "outputId": "70f6e53b-f5a4-4817-b64c-ef249107cbc8"
      },
      "source": [
        "# 수행시간 측정\n",
        "import time\n",
        "start_time = time.time()\n",
        "\n",
        "a=1; b=1;\n",
        "print(a+b)\n",
        "\n",
        "end_time = time.time()\n",
        "print(f'time :{round(end_time-start_time,6)}')"
      ],
      "execution_count": 1,
      "outputs": [
        {
          "output_type": "stream",
          "text": [
            "2\n",
            "time :0.000387\n"
          ],
          "name": "stdout"
        }
      ]
    },
    {
      "cell_type": "markdown",
      "metadata": {
        "id": "w9bZpn3U0MZf",
        "colab_type": "text"
      },
      "source": [
        "# 2. 그리디 예제 p87\n",
        "- 거슬러야 되는 동전 N원이 들어오면 500,100,50,10원으로 거슬러줘야 한다.\n",
        "- N원을 거슬러줄 수 있는 동전의 최소 개수는 몇 개인가?"
      ]
    },
    {
      "cell_type": "code",
      "metadata": {
        "id": "T245pa3bvRc_",
        "colab_type": "code",
        "colab": {
          "base_uri": "https://localhost:8080/",
          "height": 50
        },
        "outputId": "03b3b626-1376-4138-de65-e3eaf95dfd53"
      },
      "source": [
        "N = int(input())\n",
        "coin_class=[500,100,50,10] # coin 종류\n",
        "coin_num=0 # 코인 개수\n",
        "\n",
        "for i in coin_class: # 코인 종류별로 반복\n",
        "  num=N//i # 코인 개수\n",
        "  remain=N%i # 코인 나머지 -> 다음 코인으로 처리\n",
        "  coin_num += num # 코인 개수 더해줌\n",
        "  N=remain # 다음 코인으로 처리하기 위한 코드\n",
        "\n",
        "print(coin_num)"
      ],
      "execution_count": null,
      "outputs": [
        {
          "output_type": "stream",
          "text": [
            "1280\n",
            "8\n"
          ],
          "name": "stdout"
        }
      ]
    },
    {
      "cell_type": "markdown",
      "metadata": {
        "id": "8cBR8Jiy2eOF",
        "colab_type": "text"
      },
      "source": [
        "- 답지 : 내 논리를 단순화\n",
        "- 그리디는 논리 정당화가 가장 중요. 그리디로 접근할 수 있었던 이유는 큰 단위가 작은 단위의 배수이기 때문. "
      ]
    },
    {
      "cell_type": "code",
      "metadata": {
        "id": "bLrnk9_p0k4w",
        "colab_type": "code",
        "colab": {}
      },
      "source": [
        "N = int(input())\n",
        "coin_class=[500,100,50,10] # coin 종류\n",
        "coin_num=0 # 코인 개수\n",
        "\n",
        "for i in coin_class: # 코인 종류별로 반복\n",
        "  \n",
        "  # 코인 나머지 -> 다음 코인으로 처리\n",
        "  coin_num += N//i # 코인 개수 더해줌\n",
        "  N %= i # 다음 코인으로 처리하기 위한 코드 N= N%i\n",
        "\n",
        "print(coin_num)"
      ],
      "execution_count": null,
      "outputs": []
    },
    {
      "cell_type": "markdown",
      "metadata": {
        "id": "TLniIQVHplBi",
        "colab_type": "text"
      },
      "source": [
        "# 큰 수의 법칙\n",
        "- 오답 노트 : \n",
        "- 1) sorted 함수를 모름\n",
        "- 2) list 이름은 내장 함수와 충돌이 됌.\n",
        "- 3) N,M,K를 입력받는 것을 간단하게 알아야 함.\n",
        "- 4) 문제 조건을 잘못읽어서 M과 K를 바꿔놓음\n",
        "- 5) sort()는 리스트형의 메서드. 리스트 자체를 수정 vs sorted()는 함수. "
      ]
    },
    {
      "cell_type": "markdown",
      "metadata": {
        "id": "-uMjrW3Ky0U0",
        "colab_type": "text"
      },
      "source": [
        "처음 제출"
      ]
    },
    {
      "cell_type": "code",
      "metadata": {
        "id": "5ho0mydfsc6a",
        "colab_type": "code",
        "colab": {
          "base_uri": "https://localhost:8080/",
          "height": 70
        },
        "outputId": "6cf666de-184b-429d-ff6c-cb81273bb40c"
      },
      "source": [
        "start = list(map(int,input().split())) # 첫 줄 받기\n",
        "N = start[0]; M = start[1] ; K = start[2]\n",
        "line = list(map(int,input().split())) # 두 번째 줄 받기\n",
        "line = sorted(line,reverse=True) # 정렬\n",
        "target = 0 \n",
        "if M<=K:\n",
        "  target = line[0] * M # 특수 케이스 처리\n",
        "else: # 이 연산은 K번 제일 큰 수를 더하고 두 번째로 큰 수를 한 번 더해주는 방식을 반복함.\n",
        "# 따라서, (K+1) 세트를 최대한 반복하고 나머지는 그냥 제일 큰 수를 더하면 됌.\n",
        "  a = M // (K+1) # 몫\n",
        "  b = M % (K+1) # 나머지\n",
        "  target = a * (line[0]*K + line[1]) + b * line[0]\n",
        "\n",
        "print(target)"
      ],
      "execution_count": null,
      "outputs": [
        {
          "output_type": "stream",
          "text": [
            "5 7 2\n",
            "3 4 3 4 3\n",
            "28\n"
          ],
          "name": "stdout"
        }
      ]
    },
    {
      "cell_type": "markdown",
      "metadata": {
        "id": "D2kHJq1Uy10U",
        "colab_type": "text"
      },
      "source": [
        "수정 제출"
      ]
    },
    {
      "cell_type": "code",
      "metadata": {
        "id": "2PbdcTGxtTFc",
        "colab_type": "code",
        "colab": {
          "base_uri": "https://localhost:8080/",
          "height": 71
        },
        "outputId": "1ab1f35d-d854-49d1-ea5f-852a1c9a22a8"
      },
      "source": [
        "N,M,K = map(int,input().split()) # 첫 줄 받기\n",
        "line = sorted(list(map(int,input().split())),reverse=True) # 두 번째 줄 받기\n",
        "target = 0 \n",
        "if M<=K:\n",
        "  target = line[0] * M # 특수 케이스 처리\n",
        "else: # 이 연산은 K번 제일 큰 수를 더하고 두 번째로 큰 수를 한 번 더해주는 방식을 반복함.\n",
        "# 따라서, (K+1) 세트를 최대한 반복하고 나머지는 그냥 제일 큰 수를 더하면 됌.\n",
        "  a = M // (K+1) # 몫\n",
        "  b = M % (K+1) # 나머지\n",
        "  target = a * (line[0]*K + line[1]) + b * line[0]\n",
        "\n",
        "print(target)"
      ],
      "execution_count": null,
      "outputs": [
        {
          "output_type": "stream",
          "text": [
            "5 8 3\n",
            "2 4 5 4 6\n",
            "46\n"
          ],
          "name": "stdout"
        }
      ]
    },
    {
      "cell_type": "markdown",
      "metadata": {
        "id": "jE-wqvDzUt5b",
        "colab_type": "text"
      },
      "source": [
        "# 3. 숫자 카드 게임"
      ]
    },
    {
      "cell_type": "markdown",
      "metadata": {
        "id": "VakN-QblY00d",
        "colab_type": "text"
      },
      "source": [
        "- 나이브한 풀이.\n",
        "- 그냥 모든 최소값들 모아서 그 중 가장 큰 것"
      ]
    },
    {
      "cell_type": "code",
      "metadata": {
        "id": "YczONvjlwTIq",
        "colab_type": "code",
        "colab": {
          "base_uri": "https://localhost:8080/",
          "height": 88
        },
        "outputId": "1c7ba076-ba35-4664-ef3d-633bbb108723"
      },
      "source": [
        "N,M = map(int,input().split())\n",
        "a = []\n",
        "for i in range(N):\n",
        "  a.append(min(list(map(int,input().split()))))\n",
        "max(a)"
      ],
      "execution_count": 5,
      "outputs": [
        {
          "output_type": "stream",
          "text": [
            "2 4\n",
            "7 3 1 8\n",
            "3 3 3 4\n"
          ],
          "name": "stdout"
        },
        {
          "output_type": "execute_result",
          "data": {
            "text/plain": [
              "3"
            ]
          },
          "metadata": {
            "tags": []
          },
          "execution_count": 5
        }
      ]
    },
    {
      "cell_type": "markdown",
      "metadata": {
        "id": "bgJ0XDEfY6_7",
        "colab_type": "text"
      },
      "source": [
        "- 줄이 너무 많다면, 모든 최소값을 저장하기에 메모리가 부족할 것.\n",
        "- 따라서, 첫 줄과 그 다음 줄을 비교해서 크지 않은 쪽은 그냥 바로 버리기.\n",
        "- 이는 딥러닝에서 나오는 이동평균 개념과 비슷함. "
      ]
    },
    {
      "cell_type": "code",
      "metadata": {
        "id": "OC6hZ9OAU_78",
        "colab_type": "code",
        "colab": {
          "base_uri": "https://localhost:8080/",
          "height": 88
        },
        "outputId": "3bb730cb-8e9e-4605-a239-4982c891db8f"
      },
      "source": [
        "N,M = map(int,input().split())\n",
        "\n",
        "for i in range(N):\n",
        "  if i == 0:\n",
        "    a = min(list(map(int,input().split())))\n",
        "  else:\n",
        "    a = max(a,min(list(map(int,input().split())))) \n",
        "print(a)"
      ],
      "execution_count": 7,
      "outputs": [
        {
          "output_type": "stream",
          "text": [
            "2 4\n",
            "7 3 1 8\n",
            "3 3 3 4\n",
            "3\n"
          ],
          "name": "stdout"
        }
      ]
    },
    {
      "cell_type": "markdown",
      "metadata": {
        "id": "uA2IT8sNau20",
        "colab_type": "text"
      },
      "source": [
        "# 4. 1이 될 때까지"
      ]
    },
    {
      "cell_type": "code",
      "metadata": {
        "id": "eSgh6L42W5Se",
        "colab_type": "code",
        "colab": {
          "base_uri": "https://localhost:8080/",
          "height": 52
        },
        "outputId": "ce41a87a-07e8-41dc-d9a3-2ad1101f2345"
      },
      "source": [
        "N,K = map(int,input().split())\n",
        "a=0\n",
        "for i in range(max(N,K)):\n",
        "  if N % K !=0:\n",
        "    N -= 1\n",
        "    a += 1\n",
        "  else:\n",
        "    N /= K\n",
        "    a += 1\n",
        "  if N==1:\n",
        "    print(a)\n",
        "    break\n",
        "  \n"
      ],
      "execution_count": 11,
      "outputs": [
        {
          "output_type": "stream",
          "text": [
            "25 5\n",
            "2\n"
          ],
          "name": "stdout"
        }
      ]
    },
    {
      "cell_type": "markdown",
      "metadata": {
        "id": "eMR6-Gi0cH_n",
        "colab_type": "text"
      },
      "source": [
        "- 딱 안나눠떨어질 때 1을 빼주는걸 여러 번 하지 말고 나머지를 이용하자"
      ]
    },
    {
      "cell_type": "code",
      "metadata": {
        "id": "tQPxVvZvbMux",
        "colab_type": "code",
        "colab": {
          "base_uri": "https://localhost:8080/",
          "height": 52
        },
        "outputId": "cea8c159-f6bb-40bd-990f-df42ea4e6f43"
      },
      "source": [
        "N,K = map(int,input().split())\n",
        "a=0\n",
        "for i in range(max(N,K)):\n",
        "  if N % K !=0:\n",
        "    temp = N % K\n",
        "    N -= temp \n",
        "    a += temp\n",
        "  else:\n",
        "    N /= K\n",
        "    a += 1\n",
        "  if N==1:\n",
        "    print(a)\n",
        "    break"
      ],
      "execution_count": 12,
      "outputs": [
        {
          "output_type": "stream",
          "text": [
            "25 5\n",
            "2\n"
          ],
          "name": "stdout"
        }
      ]
    },
    {
      "cell_type": "code",
      "metadata": {
        "id": "v0OmGURMbQha",
        "colab_type": "code",
        "colab": {}
      },
      "source": [
        ""
      ],
      "execution_count": null,
      "outputs": []
    }
  ]
}