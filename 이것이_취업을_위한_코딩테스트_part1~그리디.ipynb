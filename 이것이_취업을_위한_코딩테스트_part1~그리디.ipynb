{
  "nbformat": 4,
  "nbformat_minor": 0,
  "metadata": {
    "colab": {
      "name": "이것이 취업을 위한 코딩테스트 part1~그리디.ipynb",
      "provenance": [],
      "collapsed_sections": [],
      "authorship_tag": "ABX9TyMmQZhoMSfd3SVQVHk05Mxy",
      "include_colab_link": true
    },
    "kernelspec": {
      "name": "python3",
      "display_name": "Python 3"
    }
  },
  "cells": [
    {
      "cell_type": "markdown",
      "metadata": {
        "id": "view-in-github",
        "colab_type": "text"
      },
      "source": [
        "<a href=\"https://colab.research.google.com/github/mars-cookie/Algorithm/blob/master/%EC%9D%B4%EA%B2%83%EC%9D%B4_%EC%B7%A8%EC%97%85%EC%9D%84_%EC%9C%84%ED%95%9C_%EC%BD%94%EB%94%A9%ED%85%8C%EC%8A%A4%ED%8A%B8_part1~%EA%B7%B8%EB%A6%AC%EB%94%94.ipynb\" target=\"_parent\"><img src=\"https://colab.research.google.com/assets/colab-badge.svg\" alt=\"Open In Colab\"/></a>"
      ]
    },
    {
      "cell_type": "markdown",
      "metadata": {
        "id": "B-RMxgU6u6BR",
        "colab_type": "text"
      },
      "source": [
        "# 1. 복잡도"
      ]
    },
    {
      "cell_type": "code",
      "metadata": {
        "id": "Cu0dAjRluw3q",
        "colab_type": "code",
        "colab": {
          "base_uri": "https://localhost:8080/",
          "height": 53
        },
        "outputId": "4ff28ddb-6e0d-4f2d-8cdb-65f4e4d718e0"
      },
      "source": [
        "# 수행시간 측정\n",
        "import time\n",
        "start_time = time.time()\n",
        "\n",
        "a=1; b=1;\n",
        "print(a+b)\n",
        "\n",
        "end_time = time.time()\n",
        "print(f'time :{round(end_time-start_time,6)}')"
      ],
      "execution_count": null,
      "outputs": [
        {
          "output_type": "stream",
          "text": [
            "2\n",
            "time :0.00019\n"
          ],
          "name": "stdout"
        }
      ]
    },
    {
      "cell_type": "markdown",
      "metadata": {
        "id": "w9bZpn3U0MZf",
        "colab_type": "text"
      },
      "source": [
        "# 2. 그리디 예제 p87\n",
        "- 거슬러야 되는 동전 N원이 들어오면 500,100,50,10원으로 거슬러줘야 한다.\n",
        "- N원을 거슬러줄 수 있는 동전의 최소 개수는 몇 개인가?"
      ]
    },
    {
      "cell_type": "code",
      "metadata": {
        "id": "T245pa3bvRc_",
        "colab_type": "code",
        "colab": {
          "base_uri": "https://localhost:8080/",
          "height": 50
        },
        "outputId": "03b3b626-1376-4138-de65-e3eaf95dfd53"
      },
      "source": [
        "N = int(input())\n",
        "coin_class=[500,100,50,10] # coin 종류\n",
        "coin_num=0 # 코인 개수\n",
        "\n",
        "for i in coin_class: # 코인 종류별로 반복\n",
        "  num=N//i # 코인 개수\n",
        "  remain=N%i # 코인 나머지 -> 다음 코인으로 처리\n",
        "  coin_num += num # 코인 개수 더해줌\n",
        "  N=remain # 다음 코인으로 처리하기 위한 코드\n",
        "\n",
        "print(coin_num)"
      ],
      "execution_count": null,
      "outputs": [
        {
          "output_type": "stream",
          "text": [
            "1280\n",
            "8\n"
          ],
          "name": "stdout"
        }
      ]
    },
    {
      "cell_type": "markdown",
      "metadata": {
        "id": "8cBR8Jiy2eOF",
        "colab_type": "text"
      },
      "source": [
        "- 답지 : 내 논리를 단순화\n",
        "- 그리디는 논리 정당화가 가장 중요. 그리디로 접근할 수 있었던 이유는 큰 단위가 작은 단위의 배수이기 때문. "
      ]
    },
    {
      "cell_type": "code",
      "metadata": {
        "id": "bLrnk9_p0k4w",
        "colab_type": "code",
        "colab": {}
      },
      "source": [
        "N = int(input())\n",
        "coin_class=[500,100,50,10] # coin 종류\n",
        "coin_num=0 # 코인 개수\n",
        "\n",
        "for i in coin_class: # 코인 종류별로 반복\n",
        "  \n",
        "  # 코인 나머지 -> 다음 코인으로 처리\n",
        "  coin_num += N//i # 코인 개수 더해줌\n",
        "  N %= i # 다음 코인으로 처리하기 위한 코드 N= N%i\n",
        "\n",
        "print(coin_num)"
      ],
      "execution_count": null,
      "outputs": []
    },
    {
      "cell_type": "markdown",
      "metadata": {
        "id": "TLniIQVHplBi",
        "colab_type": "text"
      },
      "source": [
        "# 큰 수의 법칙\n",
        "- 오답 노트 : \n",
        "- 1) sorted 함수를 모름\n",
        "- 2) list 이름은 내장 함수와 충돌이 됌.\n",
        "- 3) N,M,K를 입력받는 것을 간단하게 알아야 함.\n",
        "- 4) 문제 조건을 잘못읽어서 M과 K를 바꿔놓음\n",
        "- 5) sort()는 리스트형의 메서드. 리스트 자체를 수정 vs sorted()는 함수. "
      ]
    },
    {
      "cell_type": "markdown",
      "metadata": {
        "id": "-uMjrW3Ky0U0",
        "colab_type": "text"
      },
      "source": [
        "처음 제출"
      ]
    },
    {
      "cell_type": "code",
      "metadata": {
        "id": "5ho0mydfsc6a",
        "colab_type": "code",
        "colab": {
          "base_uri": "https://localhost:8080/",
          "height": 70
        },
        "outputId": "6cf666de-184b-429d-ff6c-cb81273bb40c"
      },
      "source": [
        "start = list(map(int,input().split())) # 첫 줄 받기\n",
        "N = start[0]; M = start[1] ; K = start[2]\n",
        "line = list(map(int,input().split())) # 두 번째 줄 받기\n",
        "line = sorted(line,reverse=True) # 정렬\n",
        "target = 0 \n",
        "if M<=K:\n",
        "  target = line[0] * M # 특수 케이스 처리\n",
        "else: # 이 연산은 K번 제일 큰 수를 더하고 두 번째로 큰 수를 한 번 더해주는 방식을 반복함.\n",
        "# 따라서, (K+1) 세트를 최대한 반복하고 나머지는 그냥 제일 큰 수를 더하면 됌.\n",
        "  a = M // (K+1) # 몫\n",
        "  b = M % (K+1) # 나머지\n",
        "  target = a * (line[0]*K + line[1]) + b * line[0]\n",
        "\n",
        "print(target)"
      ],
      "execution_count": null,
      "outputs": [
        {
          "output_type": "stream",
          "text": [
            "5 7 2\n",
            "3 4 3 4 3\n",
            "28\n"
          ],
          "name": "stdout"
        }
      ]
    },
    {
      "cell_type": "markdown",
      "metadata": {
        "id": "D2kHJq1Uy10U",
        "colab_type": "text"
      },
      "source": [
        "수정 제출"
      ]
    },
    {
      "cell_type": "code",
      "metadata": {
        "id": "2PbdcTGxtTFc",
        "colab_type": "code",
        "colab": {
          "base_uri": "https://localhost:8080/",
          "height": 71
        },
        "outputId": "1ab1f35d-d854-49d1-ea5f-852a1c9a22a8"
      },
      "source": [
        "N,M,K = map(int,input().split()) # 첫 줄 받기\n",
        "line = sorted(list(map(int,input().split())),reverse=True) # 두 번째 줄 받기\n",
        "target = 0 \n",
        "if M<=K:\n",
        "  target = line[0] * M # 특수 케이스 처리\n",
        "else: # 이 연산은 K번 제일 큰 수를 더하고 두 번째로 큰 수를 한 번 더해주는 방식을 반복함.\n",
        "# 따라서, (K+1) 세트를 최대한 반복하고 나머지는 그냥 제일 큰 수를 더하면 됌.\n",
        "  a = M // (K+1) # 몫\n",
        "  b = M % (K+1) # 나머지\n",
        "  target = a * (line[0]*K + line[1]) + b * line[0]\n",
        "\n",
        "print(target)"
      ],
      "execution_count": 14,
      "outputs": [
        {
          "output_type": "stream",
          "text": [
            "5 8 3\n",
            "2 4 5 4 6\n",
            "46\n"
          ],
          "name": "stdout"
        }
      ]
    },
    {
      "cell_type": "code",
      "metadata": {
        "id": "YczONvjlwTIq",
        "colab_type": "code",
        "colab": {}
      },
      "source": [
        ""
      ],
      "execution_count": null,
      "outputs": []
    }
  ]
}