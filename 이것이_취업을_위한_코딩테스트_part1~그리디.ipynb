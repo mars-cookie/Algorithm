{
  "nbformat": 4,
  "nbformat_minor": 0,
  "metadata": {
    "colab": {
      "name": "이것이 취업을 위한 코딩테스트 part1~그리디.ipynb",
      "provenance": [],
      "collapsed_sections": [],
      "authorship_tag": "ABX9TyPBQaR0v3uR5Uh8W3ECyiMf",
      "include_colab_link": true
    },
    "kernelspec": {
      "name": "python3",
      "display_name": "Python 3"
    }
  },
  "cells": [
    {
      "cell_type": "markdown",
      "metadata": {
        "id": "view-in-github",
        "colab_type": "text"
      },
      "source": [
        "<a href=\"https://colab.research.google.com/github/mars-cookie/Algorithm/blob/master/%EC%9D%B4%EA%B2%83%EC%9D%B4_%EC%B7%A8%EC%97%85%EC%9D%84_%EC%9C%84%ED%95%9C_%EC%BD%94%EB%94%A9%ED%85%8C%EC%8A%A4%ED%8A%B8_part1~%EA%B7%B8%EB%A6%AC%EB%94%94.ipynb\" target=\"_parent\"><img src=\"https://colab.research.google.com/assets/colab-badge.svg\" alt=\"Open In Colab\"/></a>"
      ]
    },
    {
      "cell_type": "markdown",
      "metadata": {
        "id": "B-RMxgU6u6BR",
        "colab_type": "text"
      },
      "source": [
        "# 1. 복잡도"
      ]
    },
    {
      "cell_type": "code",
      "metadata": {
        "id": "Cu0dAjRluw3q",
        "colab_type": "code",
        "colab": {
          "base_uri": "https://localhost:8080/",
          "height": 50
        },
        "outputId": "6fbe326d-3625-4c75-b76e-a2ba133ad831"
      },
      "source": [
        "# 수행시간 측정\n",
        "import time\n",
        "start_time = time.time()\n",
        "\n",
        "a=1; b=1;\n",
        "print(a+b)\n",
        "\n",
        "end_time = time.time()\n",
        "print(f'time :{round(end_time-start_time,6)}')"
      ],
      "execution_count": 1,
      "outputs": [
        {
          "output_type": "stream",
          "text": [
            "2\n",
            "time :0.004862\n"
          ],
          "name": "stdout"
        }
      ]
    },
    {
      "cell_type": "markdown",
      "metadata": {
        "id": "w9bZpn3U0MZf",
        "colab_type": "text"
      },
      "source": [
        "# 2. 그리디 예제 p87\n",
        "- 거슬러야 되는 동전 N원이 들어오면 500,100,50,10원으로 거슬러줘야 한다.\n",
        "- N원을 거슬러줄 수 있는 동전의 최소 개수는 몇 개인가?"
      ]
    },
    {
      "cell_type": "code",
      "metadata": {
        "id": "T245pa3bvRc_",
        "colab_type": "code",
        "colab": {
          "base_uri": "https://localhost:8080/",
          "height": 50
        },
        "outputId": "03b3b626-1376-4138-de65-e3eaf95dfd53"
      },
      "source": [
        "N = int(input())\n",
        "coin_class=[500,100,50,10] # coin 종류\n",
        "coin_num=0 # 코인 개수\n",
        "\n",
        "for i in coin_class: # 코인 종류별로 반복\n",
        "  num=N//i # 코인 개수\n",
        "  remain=N%i # 코인 나머지 -> 다음 코인으로 처리\n",
        "  coin_num += num # 코인 개수 더해줌\n",
        "  N=remain # 다음 코인으로 처리하기 위한 코드\n",
        "\n",
        "print(coin_num)"
      ],
      "execution_count": 7,
      "outputs": [
        {
          "output_type": "stream",
          "text": [
            "1280\n",
            "8\n"
          ],
          "name": "stdout"
        }
      ]
    },
    {
      "cell_type": "code",
      "metadata": {
        "id": "bLrnk9_p0k4w",
        "colab_type": "code",
        "colab": {}
      },
      "source": [
        ""
      ],
      "execution_count": null,
      "outputs": []
    }
  ]
}